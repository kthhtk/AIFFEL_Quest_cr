{
 "cells": [
  {
   "cell_type": "code",
   "execution_count": 1,
   "id": "2b52ab17",
   "metadata": {},
   "outputs": [],
   "source": [
    "# 1단계: 환경 설정 및 데이터 로드"
   ]
  },
  {
   "cell_type": "code",
   "execution_count": 2,
   "id": "389ac09d",
   "metadata": {},
   "outputs": [
    {
     "name": "stderr",
     "output_type": "stream",
     "text": [
      "[nltk_data] Downloading package stopwords to /aiffel/nltk_data...\n",
      "[nltk_data]   Package stopwords is already up-to-date!\n"
     ]
    },
    {
     "name": "stdout",
     "output_type": "stream",
     "text": [
      "3.6.5\n",
      "2.6.0\n",
      "1.3.3\n",
      "1.2.0\n"
     ]
    }
   ],
   "source": [
    "from importlib.metadata import version\n",
    "import nltk\n",
    "nltk.download('stopwords')\n",
    "from nltk.corpus import stopwords\n",
    "\n",
    "import tensorflow\n",
    "import summa\n",
    "import pandas as pd\n",
    "\n",
    "print(nltk.__version__)\n",
    "print(tensorflow.__version__)\n",
    "print(pd.__version__)\n",
    "print(version('summa'))"
   ]
  },
  {
   "cell_type": "code",
   "execution_count": 3,
   "id": "a950dc80",
   "metadata": {},
   "outputs": [],
   "source": [
    "# 1. 데이터 수집"
   ]
  },
  {
   "cell_type": "code",
   "execution_count": 4,
   "id": "cc56bafe",
   "metadata": {},
   "outputs": [],
   "source": [
    "import urllib.request\n",
    "urllib.request.urlretrieve(\"https://raw.githubusercontent.com/sunnysai12345/News_Summary/master/news_summary_more.csv\", filename=\"news_summary_more.csv\")\n",
    "data = pd.read_csv('news_summary_more.csv', encoding='iso-8859-1')"
   ]
  },
  {
   "cell_type": "code",
   "execution_count": 5,
   "id": "76ab3fc8",
   "metadata": {},
   "outputs": [
    {
     "data": {
      "text/html": [
       "<div>\n",
       "<style scoped>\n",
       "    .dataframe tbody tr th:only-of-type {\n",
       "        vertical-align: middle;\n",
       "    }\n",
       "\n",
       "    .dataframe tbody tr th {\n",
       "        vertical-align: top;\n",
       "    }\n",
       "\n",
       "    .dataframe thead th {\n",
       "        text-align: right;\n",
       "    }\n",
       "</style>\n",
       "<table border=\"1\" class=\"dataframe\">\n",
       "  <thead>\n",
       "    <tr style=\"text-align: right;\">\n",
       "      <th></th>\n",
       "      <th>headlines</th>\n",
       "      <th>text</th>\n",
       "    </tr>\n",
       "  </thead>\n",
       "  <tbody>\n",
       "    <tr>\n",
       "      <th>58762</th>\n",
       "      <td>Mumbai gets its first cycling track only for S...</td>\n",
       "      <td>To reduce air pollution and spread the importa...</td>\n",
       "    </tr>\n",
       "    <tr>\n",
       "      <th>37942</th>\n",
       "      <td>Messi missed penalty due to Israel match snub:...</td>\n",
       "      <td>Israel's Defence Minister Avigdor Liberman has...</td>\n",
       "    </tr>\n",
       "    <tr>\n",
       "      <th>31762</th>\n",
       "      <td>Sachin quit Flipkart as Walmart wanted one fou...</td>\n",
       "      <td>Flipkart Co-founder Sachin Bansal has quit the...</td>\n",
       "    </tr>\n",
       "    <tr>\n",
       "      <th>85165</th>\n",
       "      <td>Need for Speed Payback trailer released</td>\n",
       "      <td>Electronic Arts (EA) has released the trailer ...</td>\n",
       "    </tr>\n",
       "    <tr>\n",
       "      <th>30853</th>\n",
       "      <td>Choksi named as 'wanted' in 12,000-page PNB ca...</td>\n",
       "      <td>The CBI on Wednesday submitted a second charge...</td>\n",
       "    </tr>\n",
       "    <tr>\n",
       "      <th>95560</th>\n",
       "      <td>Will hang those who kill cows: Chhattisgarh CM</td>\n",
       "      <td>Chhattisgarh Chief Minister Raman Singh has sa...</td>\n",
       "    </tr>\n",
       "    <tr>\n",
       "      <th>59801</th>\n",
       "      <td>Bhuvneshwar proposed to me over text message, ...</td>\n",
       "      <td>In an interview with Shaadi Saga, Bhuvneshwar ...</td>\n",
       "    </tr>\n",
       "    <tr>\n",
       "      <th>1315</th>\n",
       "      <td>Spidercam crashes into sun shield of umpire's ...</td>\n",
       "      <td>Chair umpire Alison Hughes narrowly escaped in...</td>\n",
       "    </tr>\n",
       "    <tr>\n",
       "      <th>55606</th>\n",
       "      <td>Kohli is Team India boss, I just give suggesti...</td>\n",
       "      <td>India coach Ravi Shastri has said that captain...</td>\n",
       "    </tr>\n",
       "    <tr>\n",
       "      <th>58482</th>\n",
       "      <td>Think before tweeting so you don't need to del...</td>\n",
       "      <td>While speaking at a summit in India, former US...</td>\n",
       "    </tr>\n",
       "  </tbody>\n",
       "</table>\n",
       "</div>"
      ],
      "text/plain": [
       "                                               headlines  \\\n",
       "58762  Mumbai gets its first cycling track only for S...   \n",
       "37942  Messi missed penalty due to Israel match snub:...   \n",
       "31762  Sachin quit Flipkart as Walmart wanted one fou...   \n",
       "85165            Need for Speed Payback trailer released   \n",
       "30853  Choksi named as 'wanted' in 12,000-page PNB ca...   \n",
       "95560     Will hang those who kill cows: Chhattisgarh CM   \n",
       "59801  Bhuvneshwar proposed to me over text message, ...   \n",
       "1315   Spidercam crashes into sun shield of umpire's ...   \n",
       "55606  Kohli is Team India boss, I just give suggesti...   \n",
       "58482  Think before tweeting so you don't need to del...   \n",
       "\n",
       "                                                    text  \n",
       "58762  To reduce air pollution and spread the importa...  \n",
       "37942  Israel's Defence Minister Avigdor Liberman has...  \n",
       "31762  Flipkart Co-founder Sachin Bansal has quit the...  \n",
       "85165  Electronic Arts (EA) has released the trailer ...  \n",
       "30853  The CBI on Wednesday submitted a second charge...  \n",
       "95560  Chhattisgarh Chief Minister Raman Singh has sa...  \n",
       "59801  In an interview with Shaadi Saga, Bhuvneshwar ...  \n",
       "1315   Chair umpire Alison Hughes narrowly escaped in...  \n",
       "55606  India coach Ravi Shastri has said that captain...  \n",
       "58482  While speaking at a summit in India, former US...  "
      ]
     },
     "execution_count": 5,
     "metadata": {},
     "output_type": "execute_result"
    }
   ],
   "source": [
    "data.sample(10)"
   ]
  },
  {
   "cell_type": "code",
   "execution_count": 6,
   "id": "9a9b82d8",
   "metadata": {},
   "outputs": [],
   "source": [
    "# 2. 데이터 전처리하기"
   ]
  },
  {
   "cell_type": "code",
   "execution_count": 7,
   "id": "ee2b5f38",
   "metadata": {},
   "outputs": [
    {
     "name": "stdout",
     "output_type": "stream",
     "text": [
      "text 열에서 중복을 배제한 유일한 샘플의 수 : 98360\n",
      "headlines 열에서 중복을 배제한 유일한 샘플의 수 : 98280\n"
     ]
    }
   ],
   "source": [
    "print('text 열에서 중복을 배제한 유일한 샘플의 수 :', data['text'].nunique())\n",
    "print('headlines 열에서 중복을 배제한 유일한 샘플의 수 :', data['headlines'].nunique())"
   ]
  },
  {
   "cell_type": "code",
   "execution_count": 8,
   "id": "60a2ab67",
   "metadata": {},
   "outputs": [
    {
     "name": "stdout",
     "output_type": "stream",
     "text": [
      "전체 샘플수 : 98360\n"
     ]
    }
   ],
   "source": [
    "data.drop_duplicates(subset = ['text'], inplace=True)\n",
    "print('전체 샘플수 :', (len(data)))"
   ]
  },
  {
   "cell_type": "code",
   "execution_count": 9,
   "id": "b40716b5",
   "metadata": {},
   "outputs": [
    {
     "name": "stdout",
     "output_type": "stream",
     "text": [
      "headlines    0\n",
      "text         0\n",
      "dtype: int64\n"
     ]
    }
   ],
   "source": [
    "print(data.isnull().sum())"
   ]
  },
  {
   "cell_type": "code",
   "execution_count": 10,
   "id": "bcfa86cc",
   "metadata": {},
   "outputs": [
    {
     "name": "stdout",
     "output_type": "stream",
     "text": [
      "정규화 사전의 수:  120\n"
     ]
    }
   ],
   "source": [
    "contractions = {\"ain't\": \"is not\", \"aren't\": \"are not\",\"can't\": \"cannot\", \"'cause\": \"because\", \"could've\": \"could have\", \"couldn't\": \"could not\",\n",
    "                           \"didn't\": \"did not\",  \"doesn't\": \"does not\", \"don't\": \"do not\", \"hadn't\": \"had not\", \"hasn't\": \"has not\", \"haven't\": \"have not\",\n",
    "                           \"he'd\": \"he would\",\"he'll\": \"he will\", \"he's\": \"he is\", \"how'd\": \"how did\", \"how'd'y\": \"how do you\", \"how'll\": \"how will\", \"how's\": \"how is\",\n",
    "                           \"I'd\": \"I would\", \"I'd've\": \"I would have\", \"I'll\": \"I will\", \"I'll've\": \"I will have\",\"I'm\": \"I am\", \"I've\": \"I have\", \"i'd\": \"i would\",\n",
    "                           \"i'd've\": \"i would have\", \"i'll\": \"i will\",  \"i'll've\": \"i will have\",\"i'm\": \"i am\", \"i've\": \"i have\", \"isn't\": \"is not\", \"it'd\": \"it would\",\n",
    "                           \"it'd've\": \"it would have\", \"it'll\": \"it will\", \"it'll've\": \"it will have\",\"it's\": \"it is\", \"let's\": \"let us\", \"ma'am\": \"madam\",\n",
    "                           \"mayn't\": \"may not\", \"might've\": \"might have\",\"mightn't\": \"might not\",\"mightn't've\": \"might not have\", \"must've\": \"must have\",\n",
    "                           \"mustn't\": \"must not\", \"mustn't've\": \"must not have\", \"needn't\": \"need not\", \"needn't've\": \"need not have\",\"o'clock\": \"of the clock\",\n",
    "                           \"oughtn't\": \"ought not\", \"oughtn't've\": \"ought not have\", \"shan't\": \"shall not\", \"sha'n't\": \"shall not\", \"shan't've\": \"shall not have\",\n",
    "                           \"she'd\": \"she would\", \"she'd've\": \"she would have\", \"she'll\": \"she will\", \"she'll've\": \"she will have\", \"she's\": \"she is\",\n",
    "                           \"should've\": \"should have\", \"shouldn't\": \"should not\", \"shouldn't've\": \"should not have\", \"so've\": \"so have\",\"so's\": \"so as\",\n",
    "                           \"this's\": \"this is\",\"that'd\": \"that would\", \"that'd've\": \"that would have\", \"that's\": \"that is\", \"there'd\": \"there would\",\n",
    "                           \"there'd've\": \"there would have\", \"there's\": \"there is\", \"here's\": \"here is\",\"they'd\": \"they would\", \"they'd've\": \"they would have\",\n",
    "                           \"they'll\": \"they will\", \"they'll've\": \"they will have\", \"they're\": \"they are\", \"they've\": \"they have\", \"to've\": \"to have\",\n",
    "                           \"wasn't\": \"was not\", \"we'd\": \"we would\", \"we'd've\": \"we would have\", \"we'll\": \"we will\", \"we'll've\": \"we will have\", \"we're\": \"we are\",\n",
    "                           \"we've\": \"we have\", \"weren't\": \"were not\", \"what'll\": \"what will\", \"what'll've\": \"what will have\", \"what're\": \"what are\",\n",
    "                           \"what's\": \"what is\", \"what've\": \"what have\", \"when's\": \"when is\", \"when've\": \"when have\", \"where'd\": \"where did\", \"where's\": \"where is\",\n",
    "                           \"where've\": \"where have\", \"who'll\": \"who will\", \"who'll've\": \"who will have\", \"who's\": \"who is\", \"who've\": \"who have\",\n",
    "                           \"why's\": \"why is\", \"why've\": \"why have\", \"will've\": \"will have\", \"won't\": \"will not\", \"won't've\": \"will not have\",\n",
    "                           \"would've\": \"would have\", \"wouldn't\": \"would not\", \"wouldn't've\": \"would not have\", \"y'all\": \"you all\",\n",
    "                           \"y'all'd\": \"you all would\",\"y'all'd've\": \"you all would have\",\"y'all're\": \"you all are\",\"y'all've\": \"you all have\",\n",
    "                           \"you'd\": \"you would\", \"you'd've\": \"you would have\", \"you'll\": \"you will\", \"you'll've\": \"you will have\",\n",
    "                           \"you're\": \"you are\", \"you've\": \"you have\"}\n",
    "\n",
    "print(\"정규화 사전의 수: \", len(contractions))"
   ]
  },
  {
   "cell_type": "code",
   "execution_count": 11,
   "id": "c3170276",
   "metadata": {},
   "outputs": [
    {
     "name": "stdout",
     "output_type": "stream",
     "text": [
      "불용어 개수 : 179\n",
      "['i', 'me', 'my', 'myself', 'we', 'our', 'ours', 'ourselves', 'you', \"you're\", \"you've\", \"you'll\", \"you'd\", 'your', 'yours', 'yourself', 'yourselves', 'he', 'him', 'his', 'himself', 'she', \"she's\", 'her', 'hers', 'herself', 'it', \"it's\", 'its', 'itself', 'they', 'them', 'their', 'theirs', 'themselves', 'what', 'which', 'who', 'whom', 'this', 'that', \"that'll\", 'these', 'those', 'am', 'is', 'are', 'was', 'were', 'be', 'been', 'being', 'have', 'has', 'had', 'having', 'do', 'does', 'did', 'doing', 'a', 'an', 'the', 'and', 'but', 'if', 'or', 'because', 'as', 'until', 'while', 'of', 'at', 'by', 'for', 'with', 'about', 'against', 'between', 'into', 'through', 'during', 'before', 'after', 'above', 'below', 'to', 'from', 'up', 'down', 'in', 'out', 'on', 'off', 'over', 'under', 'again', 'further', 'then', 'once', 'here', 'there', 'when', 'where', 'why', 'how', 'all', 'any', 'both', 'each', 'few', 'more', 'most', 'other', 'some', 'such', 'no', 'nor', 'not', 'only', 'own', 'same', 'so', 'than', 'too', 'very', 's', 't', 'can', 'will', 'just', 'don', \"don't\", 'should', \"should've\", 'now', 'd', 'll', 'm', 'o', 're', 've', 'y', 'ain', 'aren', \"aren't\", 'couldn', \"couldn't\", 'didn', \"didn't\", 'doesn', \"doesn't\", 'hadn', \"hadn't\", 'hasn', \"hasn't\", 'haven', \"haven't\", 'isn', \"isn't\", 'ma', 'mightn', \"mightn't\", 'mustn', \"mustn't\", 'needn', \"needn't\", 'shan', \"shan't\", 'shouldn', \"shouldn't\", 'wasn', \"wasn't\", 'weren', \"weren't\", 'won', \"won't\", 'wouldn', \"wouldn't\"]\n"
     ]
    }
   ],
   "source": [
    "print('불용어 개수 :', len(stopwords.words('english') ))\n",
    "print(stopwords.words('english'))"
   ]
  },
  {
   "cell_type": "code",
   "execution_count": 12,
   "id": "0f1dda70",
   "metadata": {},
   "outputs": [],
   "source": [
    "from bs4 import BeautifulSoup \n",
    "import re\n",
    "\n",
    "# 데이터 전처리 함수\n",
    "def preprocess_sentence(sentence, remove_stopwords=True):\n",
    "    sentence = sentence.lower() # 텍스트 소문자화\n",
    "    sentence = BeautifulSoup(sentence, \"lxml\").text # <br />, <a href = ...> 등의 html 태그 제거\n",
    "    sentence = re.sub(r'\\([^)]*\\)', '', sentence) # 괄호로 닫힌 문자열 (...) 제거 Ex) my husband (and myself!) for => my husband for\n",
    "    sentence = re.sub('\"','', sentence) # 쌍따옴표 \" 제거\n",
    "    sentence = ' '.join([contractions[t] if t in contractions else t for t in sentence.split(\" \")]) # 약어 정규화\n",
    "    sentence = re.sub(r\"'s\\b\",\"\", sentence) # 소유격 제거. Ex) roland's -> roland\n",
    "    sentence = re.sub(\"[^a-zA-Z]\", \" \", sentence) # 영어 외 문자(숫자, 특수문자 등) 공백으로 변환\n",
    "    sentence = re.sub('[m]{2,}', 'mm', sentence) # m이 3개 이상이면 2개로 변경. Ex) ummmmmmm yeah -> umm yeah\n",
    "    \n",
    "    # 불용어 제거 (text)\n",
    "    if remove_stopwords:\n",
    "        tokens = ' '.join(word for word in sentence.split() if not word in stopwords.words('english') if len(word) > 1)\n",
    "    # 불용어 미제거 (headlines)\n",
    "    else:\n",
    "        tokens = ' '.join(word for word in sentence.split() if len(word) > 1)\n",
    "    return tokens"
   ]
  },
  {
   "cell_type": "code",
   "execution_count": 13,
   "id": "98dbd4fd",
   "metadata": {},
   "outputs": [
    {
     "name": "stdout",
     "output_type": "stream",
     "text": [
      "text:  everything bought great infact ordered twice third ordered wasfor mother father\n",
      "headlines: great way to start the day\n"
     ]
    }
   ],
   "source": [
    "temp_text = 'Everything I bought was great, infact I ordered twice and the third ordered was<br />for my mother and father.'\n",
    "temp_headlines = 'Great way to start (or finish) the day!!!'\n",
    "\n",
    "print(\"text: \", preprocess_sentence(temp_text))\n",
    "print(\"headlines:\", preprocess_sentence(temp_headlines, False))  # 불용어를 제거하지 않습니다."
   ]
  },
  {
   "cell_type": "code",
   "execution_count": 15,
   "id": "31d745fd",
   "metadata": {},
   "outputs": [
    {
     "name": "stdout",
     "output_type": "stream",
     "text": [
      "text 전처리 후 결과:  ['saurav kant alumnus upgrad iiit pg program machine learning artificial intelligence sr systems engineer infosys almost years work experience program upgrad degree career support helped transition data scientist tech mahindra salary hike upgrad online power learning powered lakh careers', 'kunal shah credit card bill payment platform cred gave users chance win free food swiggy one year pranav kaushik delhi techie bagged reward spending cred coins users get one cred coin per rupee bill paid used avail rewards brands like ixigo bookmyshow ubereats cult fit', 'new zealand defeated india wickets fourth odi hamilton thursday win first match five match odi series india lost international match rohit sharma captaincy consecutive victories dating back march match witnessed india getting seventh lowest total odi cricket history', 'aegon life iterm insurance plan customers enjoy tax benefits premiums paid save taxes plan provides life cover age years also customers options insure critical illnesses disability accidental death benefit rider life cover age years', 'speaking sexual harassment allegations rajkumar hirani sonam kapoor said known hirani many years true metoo movement get derailed metoo movement always believe woman case need reserve judgment added hirani accused assistant worked sanju']\n"
     ]
    }
   ],
   "source": [
    "# 전체 Text 데이터에 대한 전처리 : 10분 이상 시간이 걸릴 수 있습니다. \n",
    "clean_text = []\n",
    "\n",
    "for text in data['text']:\n",
    "    clean_text.append(preprocess_sentence(text))\n",
    "\n",
    "# 전처리 후 출력\n",
    "print(\"text 전처리 후 결과: \", clean_text[:5])"
   ]
  },
  {
   "cell_type": "code",
   "execution_count": 16,
   "id": "ce7bc691",
   "metadata": {},
   "outputs": [
    {
     "name": "stdout",
     "output_type": "stream",
     "text": [
      "headlines 전처리 후 결과:  ['upgrad learner switches to career in ml al with salary hike', 'delhi techie wins free food from swiggy for one year on cred', 'new zealand end rohit sharma led india match winning streak', 'aegon life iterm insurance plan helps customers save tax', 'have known hirani for yrs what if metoo claims are not true sonam']\n"
     ]
    }
   ],
   "source": [
    "# 전체 headlines 데이터에 대한 전처리 : 5분 이상 시간이 걸릴 수 있습니다. \n",
    "clean_headlines = []\n",
    "\n",
    "for headlines in data['headlines']:\n",
    "    clean_headlines.append(preprocess_sentence(headlines, remove_stopwords=False))\n",
    "\n",
    "print(\"headlines 전처리 후 결과: \", clean_headlines[:5])"
   ]
  },
  {
   "cell_type": "code",
   "execution_count": 17,
   "id": "e09731a9",
   "metadata": {},
   "outputs": [],
   "source": [
    "import numpy as np\n",
    "\n",
    "data['text'] = clean_text\n",
    "data['headlines'] = clean_headlines\n",
    "\n",
    "# 빈 값을 Null 값으로 변환\n",
    "data.replace('', np.nan, inplace=True)"
   ]
  },
  {
   "cell_type": "code",
   "execution_count": 18,
   "id": "ad613369",
   "metadata": {},
   "outputs": [
    {
     "data": {
      "text/plain": [
       "headlines    0\n",
       "text         0\n",
       "dtype: int64"
      ]
     },
     "execution_count": 18,
     "metadata": {},
     "output_type": "execute_result"
    }
   ],
   "source": [
    "data.isnull().sum()"
   ]
  },
  {
   "cell_type": "code",
   "execution_count": 19,
   "id": "f376f01f",
   "metadata": {},
   "outputs": [
    {
     "name": "stdout",
     "output_type": "stream",
     "text": [
      "전체 샘플수 : 98360\n"
     ]
    }
   ],
   "source": [
    "data.dropna(axis=0, inplace=True)\n",
    "print('전체 샘플수 :', (len(data)))"
   ]
  },
  {
   "cell_type": "code",
   "execution_count": 20,
   "id": "d510b5f1",
   "metadata": {},
   "outputs": [
    {
     "name": "stdout",
     "output_type": "stream",
     "text": [
      "텍스트의 최소 길이 : 1\n",
      "텍스트의 최대 길이 : 60\n",
      "텍스트의 평균 길이 : 35.09968483123221\n",
      "요약의 최소 길이 : 1\n",
      "요약의 최대 길이 : 16\n",
      "요약의 평균 길이 : 9.299532330215534\n"
     ]
    },
    {
     "data": {
      "image/png": "[encoded data removed]",
      "text/plain": [
       "<Figure size 432x288 with 2 Axes>"
      ]
     },
     "metadata": {
      "needs_background": "light"
     },
     "output_type": "display_data"
    },
    {
     "data": {
      "image/png": "[encoded data removed]",
      "text/plain": [
       "<Figure size 432x288 with 1 Axes>"
      ]
     },
     "metadata": {
      "needs_background": "light"
     },
     "output_type": "display_data"
    },
    {
     "data": {
      "image/png": "[encoded data removed]",
      "text/plain": [
       "<Figure size 432x288 with 1 Axes>"
      ]
     },
     "metadata": {
      "needs_background": "light"
     },
     "output_type": "display_data"
    }
   ],
   "source": [
    "\n",
    "# 길이 분포 출력\n",
    "import matplotlib.pyplot as plt\n",
    "\n",
    "text_len = [len(s.split()) for s in data['text']]\n",
    "headlines_len = [len(s.split()) for s in data['headlines']]\n",
    "\n",
    "print('텍스트의 최소 길이 : {}'.format(np.min(text_len)))\n",
    "print('텍스트의 최대 길이 : {}'.format(np.max(text_len)))\n",
    "print('텍스트의 평균 길이 : {}'.format(np.mean(text_len)))\n",
    "print('요약의 최소 길이 : {}'.format(np.min(headlines_len)))\n",
    "print('요약의 최대 길이 : {}'.format(np.max(headlines_len)))\n",
    "print('요약의 평균 길이 : {}'.format(np.mean(headlines_len)))\n",
    "\n",
    "plt.subplot(1,2,1)\n",
    "plt.boxplot(text_len)\n",
    "plt.title('text')\n",
    "plt.subplot(1,2,2)\n",
    "plt.boxplot(headlines_len)\n",
    "plt.title('headlines')\n",
    "plt.tight_layout()\n",
    "plt.show()\n",
    "\n",
    "plt.title('text')\n",
    "plt.hist(text_len, bins = 40)\n",
    "plt.xlabel('length of samples')\n",
    "plt.ylabel('number of samples')\n",
    "plt.show()\n",
    "\n",
    "plt.title('headlines')\n",
    "plt.hist(headlines_len, bins = 40)\n",
    "plt.xlabel('length of samples')\n",
    "plt.ylabel('number of samples')\n",
    "plt.show()"
   ]
  },
  {
   "cell_type": "code",
   "execution_count": 21,
   "id": "30015a05",
   "metadata": {},
   "outputs": [],
   "source": [
    "text_max_len = 60\n",
    "headlines_max_len = 16"
   ]
  },
  {
   "cell_type": "code",
   "execution_count": 22,
   "id": "ed9fd92a",
   "metadata": {},
   "outputs": [],
   "source": [
    "def below_threshold_len(max_len, nested_list):\n",
    "  cnt = 0\n",
    "  for s in nested_list:\n",
    "    if(len(s.split()) <= max_len):\n",
    "        cnt = cnt + 1\n",
    "  print('전체 샘플 중 길이가 %s 이하인 샘플의 비율: %s'%(max_len, (cnt / len(nested_list))))\n"
   ]
  },
  {
   "cell_type": "code",
   "execution_count": 23,
   "id": "2c5f3105",
   "metadata": {},
   "outputs": [
    {
     "name": "stdout",
     "output_type": "stream",
     "text": [
      "전체 샘플 중 길이가 60 이하인 샘플의 비율: 1.0\n",
      "전체 샘플 중 길이가 16 이하인 샘플의 비율: 1.0\n"
     ]
    }
   ],
   "source": [
    "below_threshold_len(text_max_len, data['text'])\n",
    "below_threshold_len(headlines_max_len,  data['headlines'])"
   ]
  },
  {
   "cell_type": "code",
   "execution_count": 24,
   "id": "d88857d7",
   "metadata": {},
   "outputs": [
    {
     "name": "stdout",
     "output_type": "stream",
     "text": [
      "전체 샘플수 : 98360\n"
     ]
    }
   ],
   "source": [
    "data = data[data['text'].apply(lambda x: len(x.split()) <= text_max_len)]\n",
    "data = data[data['headlines'].apply(lambda x: len(x.split()) <= headlines_max_len)]\n",
    "\n",
    "print('전체 샘플수 :', (len(data)))"
   ]
  },
  {
   "cell_type": "code",
   "execution_count": 25,
   "id": "910e4a74",
   "metadata": {},
   "outputs": [],
   "source": [
    "# 토큰 추가하기"
   ]
  },
  {
   "cell_type": "code",
   "execution_count": 26,
   "id": "f6de3d70",
   "metadata": {},
   "outputs": [
    {
     "data": {
      "text/html": [
       "<div>\n",
       "<style scoped>\n",
       "    .dataframe tbody tr th:only-of-type {\n",
       "        vertical-align: middle;\n",
       "    }\n",
       "\n",
       "    .dataframe tbody tr th {\n",
       "        vertical-align: top;\n",
       "    }\n",
       "\n",
       "    .dataframe thead th {\n",
       "        text-align: right;\n",
       "    }\n",
       "</style>\n",
       "<table border=\"1\" class=\"dataframe\">\n",
       "  <thead>\n",
       "    <tr style=\"text-align: right;\">\n",
       "      <th></th>\n",
       "      <th>headlines</th>\n",
       "      <th>text</th>\n",
       "      <th>decoder_input</th>\n",
       "      <th>decoder_target</th>\n",
       "    </tr>\n",
       "  </thead>\n",
       "  <tbody>\n",
       "    <tr>\n",
       "      <th>0</th>\n",
       "      <td>upgrad learner switches to career in ml al wit...</td>\n",
       "      <td>saurav kant alumnus upgrad iiit pg program mac...</td>\n",
       "      <td>sostoken upgrad learner switches to career in ...</td>\n",
       "      <td>upgrad learner switches to career in ml al wit...</td>\n",
       "    </tr>\n",
       "    <tr>\n",
       "      <th>1</th>\n",
       "      <td>delhi techie wins free food from swiggy for on...</td>\n",
       "      <td>kunal shah credit card bill payment platform c...</td>\n",
       "      <td>sostoken delhi techie wins free food from swig...</td>\n",
       "      <td>delhi techie wins free food from swiggy for on...</td>\n",
       "    </tr>\n",
       "    <tr>\n",
       "      <th>2</th>\n",
       "      <td>new zealand end rohit sharma led india match w...</td>\n",
       "      <td>new zealand defeated india wickets fourth odi ...</td>\n",
       "      <td>sostoken new zealand end rohit sharma led indi...</td>\n",
       "      <td>new zealand end rohit sharma led india match w...</td>\n",
       "    </tr>\n",
       "    <tr>\n",
       "      <th>3</th>\n",
       "      <td>aegon life iterm insurance plan helps customer...</td>\n",
       "      <td>aegon life iterm insurance plan customers enjo...</td>\n",
       "      <td>sostoken aegon life iterm insurance plan helps...</td>\n",
       "      <td>aegon life iterm insurance plan helps customer...</td>\n",
       "    </tr>\n",
       "    <tr>\n",
       "      <th>4</th>\n",
       "      <td>have known hirani for yrs what if metoo claims...</td>\n",
       "      <td>speaking sexual harassment allegations rajkuma...</td>\n",
       "      <td>sostoken have known hirani for yrs what if met...</td>\n",
       "      <td>have known hirani for yrs what if metoo claims...</td>\n",
       "    </tr>\n",
       "  </tbody>\n",
       "</table>\n",
       "</div>"
      ],
      "text/plain": [
       "                                           headlines  \\\n",
       "0  upgrad learner switches to career in ml al wit...   \n",
       "1  delhi techie wins free food from swiggy for on...   \n",
       "2  new zealand end rohit sharma led india match w...   \n",
       "3  aegon life iterm insurance plan helps customer...   \n",
       "4  have known hirani for yrs what if metoo claims...   \n",
       "\n",
       "                                                text  \\\n",
       "0  saurav kant alumnus upgrad iiit pg program mac...   \n",
       "1  kunal shah credit card bill payment platform c...   \n",
       "2  new zealand defeated india wickets fourth odi ...   \n",
       "3  aegon life iterm insurance plan customers enjo...   \n",
       "4  speaking sexual harassment allegations rajkuma...   \n",
       "\n",
       "                                       decoder_input  \\\n",
       "0  sostoken upgrad learner switches to career in ...   \n",
       "1  sostoken delhi techie wins free food from swig...   \n",
       "2  sostoken new zealand end rohit sharma led indi...   \n",
       "3  sostoken aegon life iterm insurance plan helps...   \n",
       "4  sostoken have known hirani for yrs what if met...   \n",
       "\n",
       "                                      decoder_target  \n",
       "0  upgrad learner switches to career in ml al wit...  \n",
       "1  delhi techie wins free food from swiggy for on...  \n",
       "2  new zealand end rohit sharma led india match w...  \n",
       "3  aegon life iterm insurance plan helps customer...  \n",
       "4  have known hirani for yrs what if metoo claims...  "
      ]
     },
     "execution_count": 26,
     "metadata": {},
     "output_type": "execute_result"
    }
   ],
   "source": [
    "# 요약 데이터에는 시작 토큰과 종료 토큰을 추가한다.\n",
    "data['decoder_input'] = data['headlines'].apply(lambda x : 'sostoken '+ x)\n",
    "data['decoder_target'] = data['headlines'].apply(lambda x : x + ' eostoken')\n",
    "data.head()"
   ]
  },
  {
   "cell_type": "code",
   "execution_count": 27,
   "id": "a134ec65",
   "metadata": {},
   "outputs": [],
   "source": [
    "encoder_input = np.array(data['text']) # 인코더의 입력\n",
    "decoder_input = np.array(data['decoder_input']) # 디코더의 입력\n",
    "decoder_target = np.array(data['decoder_target']) # 디코더의 레이블\n"
   ]
  },
  {
   "cell_type": "code",
   "execution_count": 28,
   "id": "4672d532",
   "metadata": {},
   "outputs": [
    {
     "name": "stdout",
     "output_type": "stream",
     "text": [
      "[71035 81542 47501 ... 43572 92745 16834]\n"
     ]
    }
   ],
   "source": [
    "indices = np.arange(encoder_input.shape[0])\n",
    "np.random.shuffle(indices)\n",
    "print(indices)"
   ]
  },
  {
   "cell_type": "code",
   "execution_count": 29,
   "id": "1563cd6c",
   "metadata": {},
   "outputs": [],
   "source": [
    "encoder_input = encoder_input[indices]\n",
    "decoder_input = decoder_input[indices]\n",
    "decoder_target = decoder_target[indices]\n"
   ]
  },
  {
   "cell_type": "code",
   "execution_count": 30,
   "id": "0eac7527",
   "metadata": {},
   "outputs": [
    {
     "name": "stdout",
     "output_type": "stream",
     "text": [
      "테스트 데이터의 수 : 19672\n"
     ]
    }
   ],
   "source": [
    "n_of_val = int(len(encoder_input)*0.2)\n",
    "print('테스트 데이터의 수 :', n_of_val)"
   ]
  },
  {
   "cell_type": "code",
   "execution_count": 31,
   "id": "beedbc1b",
   "metadata": {},
   "outputs": [
    {
     "name": "stdout",
     "output_type": "stream",
     "text": [
      "훈련 데이터의 개수 : 78688\n",
      "훈련 레이블의 개수 : 78688\n",
      "테스트 데이터의 개수 : 19672\n",
      "테스트 레이블의 개수 : 19672\n"
     ]
    }
   ],
   "source": [
    "encoder_input_train = encoder_input[:-n_of_val]\n",
    "decoder_input_train = decoder_input[:-n_of_val]\n",
    "decoder_target_train = decoder_target[:-n_of_val]\n",
    "\n",
    "encoder_input_test = encoder_input[-n_of_val:]\n",
    "decoder_input_test = decoder_input[-n_of_val:]\n",
    "decoder_target_test = decoder_target[-n_of_val:]\n",
    "\n",
    "print('훈련 데이터의 개수 :', len(encoder_input_train))\n",
    "print('훈련 레이블의 개수 :', len(decoder_input_train))\n",
    "print('테스트 데이터의 개수 :', len(encoder_input_test))\n",
    "print('테스트 레이블의 개수 :', len(decoder_input_test))"
   ]
  },
  {
   "cell_type": "code",
   "execution_count": 32,
   "id": "0cabb53c",
   "metadata": {},
   "outputs": [],
   "source": [
    "# 정수 인코딩"
   ]
  },
  {
   "cell_type": "code",
   "execution_count": 33,
   "id": "173f96ab",
   "metadata": {
    "scrolled": true
   },
   "outputs": [],
   "source": [
    "from tensorflow.keras.preprocessing.text import Tokenizer \n",
    "\n",
    "src_tokenizer = Tokenizer() # 토크나이저 정의\n",
    "src_tokenizer.fit_on_texts(encoder_input_train) # 입력된 데이터로부터 단어 집합 생성"
   ]
  },
  {
   "cell_type": "code",
   "execution_count": 34,
   "id": "6986e3ab",
   "metadata": {},
   "outputs": [
    {
     "name": "stdout",
     "output_type": "stream",
     "text": [
      "단어 집합(vocabulary)의 크기 : 69676\n",
      "등장 빈도가 6번 이하인 희귀 단어의 수: 47547\n",
      "단어 집합에서 희귀 단어를 제외시킬 경우의 단어 집합의 크기 22129\n",
      "단어 집합에서 희귀 단어의 비율: 68.24014007692749\n",
      "전체 등장 빈도에서 희귀 단어 등장 빈도 비율: 3.5026898091390515\n"
     ]
    }
   ],
   "source": [
    "threshold = 7\n",
    "total_cnt = len(src_tokenizer.word_index) # 단어의 수\n",
    "rare_cnt = 0 # 등장 빈도수가 threshold보다 작은 단어의 개수를 카운트\n",
    "total_freq = 0 # 훈련 데이터의 전체 단어 빈도수 총 합\n",
    "rare_freq = 0 # 등장 빈도수가 threshold보다 작은 단어의 등장 빈도수의 총 합\n",
    "\n",
    "# 단어와 빈도수의 쌍(pair)을 key와 value로 받는다.\n",
    "for key, value in src_tokenizer.word_counts.items():\n",
    "    total_freq = total_freq + value\n",
    "\n",
    "    # 단어의 등장 빈도수가 threshold보다 작으면\n",
    "    if(value < threshold):\n",
    "        rare_cnt = rare_cnt + 1\n",
    "        rare_freq = rare_freq + value\n",
    "\n",
    "print('단어 집합(vocabulary)의 크기 :', total_cnt)\n",
    "print('등장 빈도가 %s번 이하인 희귀 단어의 수: %s'%(threshold - 1, rare_cnt))\n",
    "print('단어 집합에서 희귀 단어를 제외시킬 경우의 단어 집합의 크기 %s'%(total_cnt - rare_cnt))\n",
    "print(\"단어 집합에서 희귀 단어의 비율:\", (rare_cnt / total_cnt)*100)\n",
    "print(\"전체 등장 빈도에서 희귀 단어 등장 빈도 비율:\", (rare_freq / total_freq)*100)"
   ]
  },
  {
   "cell_type": "code",
   "execution_count": 35,
   "id": "4f168871",
   "metadata": {},
   "outputs": [],
   "source": [
    "src_vocab = 22157\n",
    "src_tokenizer = Tokenizer(num_words=src_vocab) # 단어 집합의 크기를 한\n",
    "src_tokenizer.fit_on_texts(encoder_input_train) # 단어 집합 재생성\n"
   ]
  },
  {
   "cell_type": "code",
   "execution_count": 36,
   "id": "7e4f098d",
   "metadata": {},
   "outputs": [
    {
     "name": "stdout",
     "output_type": "stream",
     "text": [
      "[[3651, 2184, 2145, 2776, 3731, 2762, 184, 464, 5771, 73, 154, 109, 1563, 923, 180, 117, 520, 2944, 17, 682, 117, 72, 3731, 2689, 1707, 18403, 574, 9102, 682, 92, 193, 4681, 71, 338, 2145, 72, 682, 520, 923, 180, 711, 12903], [13, 200, 6409, 3, 12, 255, 6800, 5543, 75, 5592, 458, 62, 819, 358, 195, 575, 24, 200, 323, 370, 6800, 27, 147, 5654, 223, 488, 255, 87, 1, 12904, 67, 6800, 734, 6970], [372, 206, 308, 1681, 11, 107, 304, 5878, 9641, 3394, 1780, 1681, 304, 135, 595, 62, 206, 949, 2716, 1752, 2241, 3600, 6, 194, 304, 5878, 181, 2295, 514, 856, 2110, 8963, 194, 5878, 206, 184, 675]]\n"
     ]
    }
   ],
   "source": [
    "# 텍스트 시퀀스를 정수 시퀀스로 변환\n",
    "encoder_input_train = src_tokenizer.texts_to_sequences(encoder_input_train) \n",
    "encoder_input_test = src_tokenizer.texts_to_sequences(encoder_input_test)\n",
    "\n",
    "# 잘 진행되었는지 샘플 출력\n",
    "print(encoder_input_train[:3])"
   ]
  },
  {
   "cell_type": "code",
   "execution_count": 37,
   "id": "fc74f3f9",
   "metadata": {},
   "outputs": [],
   "source": [
    "tar_tokenizer = Tokenizer()\n",
    "tar_tokenizer.fit_on_texts(decoder_input_train)"
   ]
  },
  {
   "cell_type": "code",
   "execution_count": 38,
   "id": "ea826535",
   "metadata": {},
   "outputs": [
    {
     "name": "stdout",
     "output_type": "stream",
     "text": [
      "단어 집합(vocabulary)의 크기 : 30145\n",
      "등장 빈도가 5번 이하인 희귀 단어의 수: 19735\n",
      "단어 집합에서 희귀 단어를 제외시킬 경우의 단어 집합의 크기 10410\n",
      "단어 집합에서 희귀 단어의 비율: 65.46690993531266\n",
      "전체 등장 빈도에서 희귀 단어 등장 빈도 비율: 4.653034024015501\n"
     ]
    }
   ],
   "source": [
    "threshold = 6\n",
    "total_cnt = len(tar_tokenizer.word_index) # 단어의 수\n",
    "rare_cnt = 0 # 등장 빈도수가 threshold보다 작은 단어의 개수를 카운트\n",
    "total_freq = 0 # 훈련 데이터의 전체 단어 빈도수 총 합\n",
    "rare_freq = 0 # 등장 빈도수가 threshold보다 작은 단어의 등장 빈도수의 총 합\n",
    "\n",
    "# 단어와 빈도수의 쌍(pair)을 key와 value로 받는다.\n",
    "for key, value in tar_tokenizer.word_counts.items():\n",
    "    total_freq = total_freq + value\n",
    "\n",
    "    # 단어의 등장 빈도수가 threshold보다 작으면\n",
    "    if(value < threshold):\n",
    "        rare_cnt = rare_cnt + 1\n",
    "        rare_freq = rare_freq + value\n",
    "\n",
    "print('단어 집합(vocabulary)의 크기 :', total_cnt)\n",
    "print('등장 빈도가 %s번 이하인 희귀 단어의 수: %s'%(threshold - 1, rare_cnt))\n",
    "print('단어 집합에서 희귀 단어를 제외시킬 경우의 단어 집합의 크기 %s'%(total_cnt - rare_cnt))\n",
    "print(\"단어 집합에서 희귀 단어의 비율:\", (rare_cnt / total_cnt)*100)\n",
    "print(\"전체 등장 빈도에서 희귀 단어 등장 빈도 비율:\", (rare_freq / total_freq)*100)"
   ]
  },
  {
   "cell_type": "code",
   "execution_count": 39,
   "id": "74b73abb",
   "metadata": {},
   "outputs": [
    {
     "name": "stdout",
     "output_type": "stream",
     "text": [
      "input\n",
      "input  [[1, 1983, 1160, 1509, 427, 420, 7, 42, 89, 51], [1, 179, 244, 11, 339, 4, 55], [1, 101, 245, 270, 1560, 16, 89, 29, 3, 58, 772], [1, 19, 286, 1021, 40, 1008, 87, 150, 3, 392, 849, 773], [1, 148, 1063, 246, 962, 246, 1602, 1064]]\n",
      "target\n",
      "decoder  [[1983, 1160, 1509, 427, 420, 7, 42, 89, 51, 2], [179, 244, 11, 339, 4, 55, 2], [101, 245, 270, 1560, 16, 89, 29, 3, 58, 772, 2], [19, 286, 1021, 40, 1008, 87, 150, 3, 392, 849, 773, 2], [148, 1063, 246, 962, 246, 1602, 1064, 2]]\n"
     ]
    }
   ],
   "source": [
    "tar_vocab = 2000\n",
    "tar_tokenizer = Tokenizer(num_words=tar_vocab) \n",
    "tar_tokenizer.fit_on_texts(decoder_input_train)\n",
    "tar_tokenizer.fit_on_texts(decoder_target_train)\n",
    "\n",
    "# 텍스트 시퀀스를 정수 시퀀스로 변환\n",
    "decoder_input_train = tar_tokenizer.texts_to_sequences(decoder_input_train) \n",
    "decoder_target_train = tar_tokenizer.texts_to_sequences(decoder_target_train)\n",
    "decoder_input_test = tar_tokenizer.texts_to_sequences(decoder_input_test)\n",
    "decoder_target_test = tar_tokenizer.texts_to_sequences(decoder_target_test)\n",
    "\n",
    "# 잘 변환되었는지 확인\n",
    "print('input')\n",
    "print('input ',decoder_input_train[:5])\n",
    "print('target')\n",
    "print('decoder ',decoder_target_train[:5])"
   ]
  },
  {
   "cell_type": "code",
   "execution_count": 40,
   "id": "96dcf886",
   "metadata": {},
   "outputs": [
    {
     "name": "stdout",
     "output_type": "stream",
     "text": [
      "삭제할 훈련 데이터의 개수 : 12\n",
      "삭제할 테스트 데이터의 개수 : 3\n",
      "훈련 데이터의 개수 : 78676\n",
      "훈련 레이블의 개수 : 78676\n",
      "테스트 데이터의 개수 : 19669\n",
      "테스트 레이블의 개수 : 19669\n"
     ]
    }
   ],
   "source": [
    "drop_train = [index for index, sentence in enumerate(decoder_input_train) if len(sentence) == 1]\n",
    "drop_test = [index for index, sentence in enumerate(decoder_input_test) if len(sentence) == 1]\n",
    "\n",
    "print('삭제할 훈련 데이터의 개수 :', len(drop_train))\n",
    "print('삭제할 테스트 데이터의 개수 :', len(drop_test))\n",
    "\n",
    "encoder_input_train = [sentence for index, sentence in enumerate(encoder_input_train) if index not in drop_train]\n",
    "decoder_input_train = [sentence for index, sentence in enumerate(decoder_input_train) if index not in drop_train]\n",
    "decoder_target_train = [sentence for index, sentence in enumerate(decoder_target_train) if index not in drop_train]\n",
    "\n",
    "encoder_input_test = [sentence for index, sentence in enumerate(encoder_input_test) if index not in drop_test]\n",
    "decoder_input_test = [sentence for index, sentence in enumerate(decoder_input_test) if index not in drop_test]\n",
    "decoder_target_test = [sentence for index, sentence in enumerate(decoder_target_test) if index not in drop_test]\n",
    "\n",
    "print('훈련 데이터의 개수 :', len(encoder_input_train))\n",
    "print('훈련 레이블의 개수 :', len(decoder_input_train))\n",
    "print('테스트 데이터의 개수 :', len(encoder_input_test))\n",
    "print('테스트 레이블의 개수 :', len(decoder_input_test))"
   ]
  },
  {
   "cell_type": "code",
   "execution_count": 41,
   "id": "8f90adc5",
   "metadata": {},
   "outputs": [],
   "source": [
    "# 패딩하기"
   ]
  },
  {
   "cell_type": "code",
   "execution_count": 42,
   "id": "eaa0f1f8",
   "metadata": {},
   "outputs": [],
   "source": [
    "from tensorflow.keras.preprocessing.sequence import pad_sequences\n",
    "\n",
    "encoder_input_train = pad_sequences(encoder_input_train, maxlen=text_max_len, padding='post')\n",
    "encoder_input_test = pad_sequences(encoder_input_test, maxlen=text_max_len, padding='post')\n",
    "decoder_input_train = pad_sequences(decoder_input_train, maxlen=headlines_max_len, padding='post')\n",
    "decoder_target_train = pad_sequences(decoder_target_train, maxlen=headlines_max_len, padding='post')\n",
    "decoder_input_test = pad_sequences(decoder_input_test, maxlen=headlines_max_len, padding='post')\n",
    "decoder_target_test = pad_sequences(decoder_target_test, maxlen=headlines_max_len, padding='post')"
   ]
  },
  {
   "cell_type": "code",
   "execution_count": 43,
   "id": "de779a4a",
   "metadata": {},
   "outputs": [],
   "source": [
    "# 모델 설계"
   ]
  },
  {
   "cell_type": "code",
   "execution_count": 44,
   "id": "6d781597",
   "metadata": {},
   "outputs": [],
   "source": [
    "from tensorflow.keras.layers import Input, LSTM, Embedding, Dense, Concatenate, TimeDistributed\n",
    "from tensorflow.keras.models import Model\n",
    "from tensorflow.keras.callbacks import EarlyStopping, ModelCheckpoint\n",
    "\n",
    "\n",
    "# 인코더 설계 시작\n",
    "embedding_dim = 128\n",
    "hidden_size = 256\n",
    "\n",
    "# 인코더\n",
    "encoder_inputs = Input(shape=(text_max_len,))\n",
    "\n",
    "# 인코더의 임베딩 층\n",
    "enc_emb = Embedding(src_vocab, embedding_dim)(encoder_inputs)\n",
    "\n",
    "# 인코더의 LSTM 1\n",
    "# encoder_lstm1 = LSTM(hidden_size, return_sequences=True, return_state=True ,dropout = 0.4, recurrent_dropout = 0.4)\n",
    "encoder_lstm1 = LSTM(hidden_size, return_sequences=True, return_state=True ,dropout = 0.4)\n",
    "encoder_output1, state_h1, state_c1 = encoder_lstm1(enc_emb)\n",
    "\n",
    "# 인코더의 LSTM 2\n",
    "encoder_lstm2 = LSTM(hidden_size, return_sequences=True, return_state=True, dropout=0.4)\n",
    "encoder_output2, state_h2, state_c2 = encoder_lstm2(encoder_output1)\n",
    "\n",
    "# 인코더의 LSTM 3\n",
    "encoder_lstm3 = LSTM(hidden_size, return_sequences=True, return_state=True, dropout=0.4)\n",
    "encoder_output3, state_h3, state_c3 = encoder_lstm3(encoder_output2)"
   ]
  },
  {
   "cell_type": "code",
   "execution_count": 45,
   "id": "99efece0",
   "metadata": {},
   "outputs": [],
   "source": [
    "# 디코더 설계\n",
    "decoder_inputs = Input(shape=(None,))\n",
    "\n",
    "# 디코더의 임베딩 층\n",
    "dec_emb_layer = Embedding(tar_vocab, embedding_dim)\n",
    "dec_emb = dec_emb_layer(decoder_inputs)\n",
    "\n",
    "# 디코더의 LSTM\n",
    "# decoder_lstm = LSTM(hidden_size, return_sequences=True, return_state=True, dropout=0.4, recurrent_dropout=0.2)\n",
    "decoder_lstm = LSTM(hidden_size, return_sequences=True, return_state=True, dropout=0.4)\n",
    "decoder_outputs, _, _ = decoder_lstm(dec_emb, initial_state=[state_h3, state_c3])"
   ]
  },
  {
   "cell_type": "code",
   "execution_count": 46,
   "id": "fb9a7a34",
   "metadata": {},
   "outputs": [
    {
     "name": "stdout",
     "output_type": "stream",
     "text": [
      "Model: \"model\"\n",
      "__________________________________________________________________________________________________\n",
      "Layer (type)                    Output Shape         Param #     Connected to                     \n",
      "==================================================================================================\n",
      "input_1 (InputLayer)            [(None, 60)]         0                                            \n",
      "__________________________________________________________________________________________________\n",
      "embedding (Embedding)           (None, 60, 128)      2836096     input_1[0][0]                    \n",
      "__________________________________________________________________________________________________\n",
      "lstm (LSTM)                     [(None, 60, 256), (N 394240      embedding[0][0]                  \n",
      "__________________________________________________________________________________________________\n",
      "input_2 (InputLayer)            [(None, None)]       0                                            \n",
      "__________________________________________________________________________________________________\n",
      "lstm_1 (LSTM)                   [(None, 60, 256), (N 525312      lstm[0][0]                       \n",
      "__________________________________________________________________________________________________\n",
      "embedding_1 (Embedding)         (None, None, 128)    256000      input_2[0][0]                    \n",
      "__________________________________________________________________________________________________\n",
      "lstm_2 (LSTM)                   [(None, 60, 256), (N 525312      lstm_1[0][0]                     \n",
      "__________________________________________________________________________________________________\n",
      "lstm_3 (LSTM)                   [(None, None, 256),  394240      embedding_1[0][0]                \n",
      "                                                                 lstm_2[0][1]                     \n",
      "                                                                 lstm_2[0][2]                     \n",
      "__________________________________________________________________________________________________\n",
      "dense (Dense)                   (None, None, 2000)   514000      lstm_3[0][0]                     \n",
      "==================================================================================================\n",
      "Total params: 5,445,200\n",
      "Trainable params: 5,445,200\n",
      "Non-trainable params: 0\n",
      "__________________________________________________________________________________________________\n"
     ]
    }
   ],
   "source": [
    "# 디코더의 출력층\n",
    "decoder_softmax_layer = Dense(tar_vocab, activation='softmax')\n",
    "decoder_softmax_outputs = decoder_softmax_layer(decoder_outputs) \n",
    "\n",
    "# 모델 정의\n",
    "model = Model([encoder_inputs, decoder_inputs], decoder_softmax_outputs)\n",
    "model.summary()"
   ]
  },
  {
   "cell_type": "code",
   "execution_count": 47,
   "id": "8c48109b",
   "metadata": {},
   "outputs": [
    {
     "name": "stdout",
     "output_type": "stream",
     "text": [
      "Model: \"model_1\"\n",
      "__________________________________________________________________________________________________\n",
      "Layer (type)                    Output Shape         Param #     Connected to                     \n",
      "==================================================================================================\n",
      "input_1 (InputLayer)            [(None, 60)]         0                                            \n",
      "__________________________________________________________________________________________________\n",
      "embedding (Embedding)           (None, 60, 128)      2836096     input_1[0][0]                    \n",
      "__________________________________________________________________________________________________\n",
      "lstm (LSTM)                     [(None, 60, 256), (N 394240      embedding[0][0]                  \n",
      "__________________________________________________________________________________________________\n",
      "input_2 (InputLayer)            [(None, None)]       0                                            \n",
      "__________________________________________________________________________________________________\n",
      "lstm_1 (LSTM)                   [(None, 60, 256), (N 525312      lstm[0][0]                       \n",
      "__________________________________________________________________________________________________\n",
      "embedding_1 (Embedding)         (None, None, 128)    256000      input_2[0][0]                    \n",
      "__________________________________________________________________________________________________\n",
      "lstm_2 (LSTM)                   [(None, 60, 256), (N 525312      lstm_1[0][0]                     \n",
      "__________________________________________________________________________________________________\n",
      "lstm_3 (LSTM)                   [(None, None, 256),  394240      embedding_1[0][0]                \n",
      "                                                                 lstm_2[0][1]                     \n",
      "                                                                 lstm_2[0][2]                     \n",
      "__________________________________________________________________________________________________\n",
      "attention_layer (AdditiveAttent (None, None, 256)    256         lstm_3[0][0]                     \n",
      "                                                                 lstm_2[0][0]                     \n",
      "__________________________________________________________________________________________________\n",
      "concat_layer (Concatenate)      (None, None, 512)    0           lstm_3[0][0]                     \n",
      "                                                                 attention_layer[0][0]            \n",
      "__________________________________________________________________________________________________\n",
      "dense_1 (Dense)                 (None, None, 2000)   1026000     concat_layer[0][0]               \n",
      "==================================================================================================\n",
      "Total params: 5,957,456\n",
      "Trainable params: 5,957,456\n",
      "Non-trainable params: 0\n",
      "__________________________________________________________________________________________________\n"
     ]
    }
   ],
   "source": [
    "from tensorflow.keras.layers import AdditiveAttention\n",
    "\n",
    "# 어텐션 층(어텐션 함수)\n",
    "attn_layer = AdditiveAttention(name='attention_layer')\n",
    "\n",
    "# 인코더와 디코더의 모든 time step의 hidden state를 어텐션 층에 전달하고 결과를 리턴\n",
    "attn_out = attn_layer([decoder_outputs, encoder_output3])\n",
    "\n",
    "\n",
    "# 어텐션의 결과와 디코더의 hidden state들을 연결\n",
    "decoder_concat_input = Concatenate(axis=-1, name='concat_layer')([decoder_outputs, attn_out])\n",
    "\n",
    "# 디코더의 출력층\n",
    "decoder_softmax_layer = Dense(tar_vocab, activation='softmax')\n",
    "decoder_softmax_outputs = decoder_softmax_layer(decoder_concat_input)\n",
    "\n",
    "# 모델 정의\n",
    "model = Model([encoder_inputs, decoder_inputs], decoder_softmax_outputs)\n",
    "model.summary()"
   ]
  },
  {
   "cell_type": "code",
   "execution_count": 48,
   "id": "2b4f7823",
   "metadata": {},
   "outputs": [],
   "source": [
    "# 모델 훈련하기"
   ]
  },
  {
   "cell_type": "code",
   "execution_count": 49,
   "id": "1b48811a",
   "metadata": {
    "scrolled": false
   },
   "outputs": [
    {
     "name": "stdout",
     "output_type": "stream",
     "text": [
      "Epoch 1/50\n",
      "308/308 [==============================] - 37s 96ms/step - loss: 2.9435 - val_loss: 2.7165\n",
      "Epoch 2/50\n",
      "308/308 [==============================] - 29s 93ms/step - loss: 2.5726 - val_loss: 2.4477\n",
      "Epoch 3/50\n",
      "308/308 [==============================] - 29s 95ms/step - loss: 2.3543 - val_loss: 2.3020\n",
      "Epoch 4/50\n",
      "308/308 [==============================] - 30s 97ms/step - loss: 2.2143 - val_loss: 2.1893\n",
      "Epoch 5/50\n",
      "308/308 [==============================] - 30s 99ms/step - loss: 2.1101 - val_loss: 2.1146\n",
      "Epoch 6/50\n",
      "308/308 [==============================] - 31s 99ms/step - loss: 2.0231 - val_loss: 2.0575\n",
      "Epoch 7/50\n",
      "308/308 [==============================] - 30s 99ms/step - loss: 1.9477 - val_loss: 1.9995\n",
      "Epoch 8/50\n",
      "308/308 [==============================] - 30s 99ms/step - loss: 1.7352 - val_loss: 1.8859\n",
      "Epoch 12/50\n",
      "308/308 [==============================] - 30s 99ms/step - loss: 1.6953 - val_loss: 1.8672\n",
      "Epoch 13/50\n",
      "308/308 [==============================] - 30s 99ms/step - loss: 1.6591 - val_loss: 1.8533\n",
      "Epoch 14/50\n",
      "308/308 [==============================] - 30s 99ms/step - loss: 1.6262 - val_loss: 1.8434\n",
      "Epoch 15/50\n",
      "308/308 [==============================] - 31s 99ms/step - loss: 1.5955 - val_loss: 1.8335\n",
      "Epoch 16/50\n",
      "308/308 [==============================] - 31s 99ms/step - loss: 1.5672 - val_loss: 1.8277\n",
      "Epoch 17/50\n",
      "308/308 [==============================] - 30s 99ms/step - loss: 1.5403 - val_loss: 1.8205\n",
      "Epoch 18/50\n",
      "308/308 [==============================] - 30s 99ms/step - loss: 1.5153 - val_loss: 1.8192\n",
      "Epoch 19/50\n",
      "308/308 [==============================] - 31s 99ms/step - loss: 1.4923 - val_loss: 1.8174\n",
      "Epoch 20/50\n",
      "308/308 [==============================] - 30s 99ms/step - loss: 1.4695 - val_loss: 1.8154\n",
      "Epoch 21/50\n",
      "308/308 [==============================] - 30s 99ms/step - loss: 1.4488 - val_loss: 1.8126\n",
      "Epoch 22/50\n",
      "308/308 [==============================] - 30s 99ms/step - loss: 1.4293 - val_loss: 1.8180\n",
      "Epoch 23/50\n",
      "308/308 [==============================] - 31s 99ms/step - loss: 1.4105 - val_loss: 1.8139\n",
      "Epoch 00023: early stopping\n"
     ]
    }
   ],
   "source": [
    "model.compile(optimizer='rmsprop', loss='sparse_categorical_crossentropy')\n",
    "es = EarlyStopping(monitor='val_loss', patience=2, verbose=1)\n",
    "history = model.fit(x=[encoder_input_train, decoder_input_train], y=decoder_target_train, \\\n",
    "          validation_data=([encoder_input_test, decoder_input_test], decoder_target_test), \\\n",
    "          batch_size=256, callbacks=[es], epochs=50)"
   ]
  },
  {
   "cell_type": "code",
   "execution_count": 50,
   "id": "68bbc388",
   "metadata": {},
   "outputs": [
    {
     "data": {
      "image/png": "[encoded data removed]",
      "text/plain": [
       "<Figure size 432x288 with 1 Axes>"
      ]
     },
     "metadata": {
      "needs_background": "light"
     },
     "output_type": "display_data"
    }
   ],
   "source": [
    "plt.plot(history.history['loss'], label='train')\n",
    "plt.plot(history.history['val_loss'], label='test')\n",
    "plt.legend()\n",
    "plt.show()"
   ]
  },
  {
   "cell_type": "code",
   "execution_count": 51,
   "id": "b3f54d3b",
   "metadata": {},
   "outputs": [],
   "source": [
    "# 인퍼런스 모델 구현하기"
   ]
  },
  {
   "cell_type": "code",
   "execution_count": 52,
   "id": "d6e327f1",
   "metadata": {},
   "outputs": [],
   "source": [
    "src_index_to_word = src_tokenizer.index_word # 원문 단어 집합에서 정수 -> 단어를 얻음\n",
    "tar_word_to_index = tar_tokenizer.word_index # 요약 단어 집합에서 단어 -> 정수를 얻음\n",
    "tar_index_to_word = tar_tokenizer.index_word # 요약 단어 집합에서 정수 -> 단어를 얻음"
   ]
  },
  {
   "cell_type": "code",
   "execution_count": 53,
   "id": "f2f78537",
   "metadata": {},
   "outputs": [],
   "source": [
    "# 인코더 설계\n",
    "encoder_model = Model(inputs=encoder_inputs, outputs=[encoder_output3, state_h3, state_c3])\n",
    "\n",
    "# 이전 시점의 상태들을 저장하는 텐서\n",
    "decoder_state_input_h = Input(shape=(hidden_size,))\n",
    "decoder_state_input_c = Input(shape=(hidden_size,))\n",
    "\n",
    "dec_emb2 = dec_emb_layer(decoder_inputs)\n",
    "\n",
    "# 문장의 다음 단어를 예측하기 위해서 초기 상태(initial_state)를 이전 시점의 상태로 사용. 이는 뒤의 함수 decode_sequence()에 구현\n",
    "# 훈련 과정에서와 달리 LSTM의 리턴하는 은닉 상태와 셀 상태인 state_h와 state_c를 버리지 않음.\n",
    "decoder_outputs2, state_h2, state_c2 = decoder_lstm(dec_emb2, initial_state=[decoder_state_input_h, decoder_state_input_c])\n"
   ]
  },
  {
   "cell_type": "code",
   "execution_count": 54,
   "id": "59ab77d1",
   "metadata": {},
   "outputs": [],
   "source": [
    "# 어텐션 함수\n",
    "decoder_hidden_state_input = Input(shape=(text_max_len, hidden_size))\n",
    "attn_out_inf = attn_layer([decoder_outputs2, decoder_hidden_state_input])\n",
    "decoder_inf_concat = Concatenate(axis=-1, name='concat')([decoder_outputs2, attn_out_inf])\n",
    "\n",
    "# 디코더의 출력층\n",
    "decoder_outputs2 = decoder_softmax_layer(decoder_inf_concat) \n",
    "\n",
    "# 최종 디코더 모델\n",
    "decoder_model = Model(\n",
    "    [decoder_inputs] + [decoder_hidden_state_input,decoder_state_input_h, decoder_state_input_c],\n",
    "    [decoder_outputs2] + [state_h2, state_c2])\n"
   ]
  },
  {
   "cell_type": "code",
   "execution_count": 61,
   "id": "850a1bba",
   "metadata": {},
   "outputs": [],
   "source": [
    "def decode_sequence(input_seq):\n",
    "    # 입력으로부터 인코더의 상태를 얻음\n",
    "    e_out, e_h, e_c = encoder_model.predict(input_seq)\n",
    "\n",
    "     # <SOS>에 해당하는 토큰 생성\n",
    "    target_seq = np.zeros((1,1))\n",
    "    target_seq[0, 0] = tar_word_to_index['sostoken']\n",
    "\n",
    "    stop_condition = False\n",
    "    decoded_sentence = ''\n",
    "    while not stop_condition: # stop_condition이 True가 될 때까지 루프 반복\n",
    "\n",
    "        output_tokens, h, c = decoder_model.predict([target_seq] + [e_out, e_h, e_c])\n",
    "        sampled_token_index = np.argmax(output_tokens[0, -1, :])\n",
    "        sampled_token = tar_index_to_word[sampled_token_index]\n",
    "\n",
    "        if (sampled_token!='eostoken'):\n",
    "            decoded_sentence += ' '+sampled_token\n",
    "\n",
    "        #  <eos>에 도달하거나 최대 길이를 넘으면 중단.\n",
    "        if (sampled_token == 'eostoken'  or len(decoded_sentence.split()) >= (headlines_max_len-1)):\n",
    "            stop_condition = True\n",
    "\n",
    "        # 길이가 1인 타겟 시퀀스를 업데이트\n",
    "        target_seq = np.zeros((1,1))\n",
    "        target_seq[0, 0] = sampled_token_index\n",
    "\n",
    "        # 상태를 업데이트 합니다.\n",
    "        e_h, e_c = h, c\n",
    "\n",
    "    return decoded_sentence\n"
   ]
  },
  {
   "cell_type": "code",
   "execution_count": 56,
   "id": "6196697f",
   "metadata": {},
   "outputs": [],
   "source": [
    "# 모델 테스트하기"
   ]
  },
  {
   "cell_type": "code",
   "execution_count": 57,
   "id": "41f5dbd7",
   "metadata": {},
   "outputs": [],
   "source": [
    "# 원문의 정수 시퀀스를 텍스트 시퀀스로 변환\n",
    "def seq2text(input_seq):\n",
    "    temp=''\n",
    "    for i in input_seq:\n",
    "        if (i!=0):\n",
    "            temp = temp + src_index_to_word[i]+' '\n",
    "    return temp\n",
    "\n",
    "# 요약문의 정수 시퀀스를 텍스트 시퀀스로 변환\n",
    "def seq2summary(input_seq):\n",
    "    temp = ''\n",
    "    for i in input_seq:\n",
    "        if i != 0 and i != tar_word_to_index['sostoken'] and i != tar_word_to_index['eostoken']:\n",
    "            temp += tar_index_to_word[i] + ' '\n",
    "    return temp\n"
   ]
  },
  {
   "cell_type": "code",
   "execution_count": 62,
   "id": "fa6d4810",
   "metadata": {},
   "outputs": [
    {
     "name": "stdout",
     "output_type": "stream",
     "text": [
      "원문 : video showing karnataka public works department minister hd throwing biscuit packets people displaced floods state surfaced online elder brother cm hd kumaraswamy visiting makeshift shelter camp village home district several twitter users slammed minister called act inhuman \n",
      "실제 요약 : video karnataka minister at flood victims \n",
      "예측 요약 :  video shows karnataka minister for\n",
      "\n",
      "\n",
      "원문 : preity zinta issuing statement metoo comment criticised social media said someone gone abuse clarify unfortunate comments taken context added preity quoted saying wish asked faced harassment \n",
      "실제 요약 : someone who was has to on metoo remark \n",
      "예측 요약 :  we say they say they say they say they say they say they are\n",
      "\n",
      "\n",
      "원문 : international cricket council monday announced team champions trophy includes players finalists tournament india pakistan pakistan skipper sarfraz ahmed named captain side ahead india virat kohli team selected jury experts included former indian captain sourav ganguly \n",
      "실제 요약 : players from india pak in icc team of champions trophy \n",
      "예측 요약 :  icc to play pak team for the time\n",
      "\n",
      "\n",
      "원문 : hours crore statue sardar vallabhbhai patel inaugurated bsp president mayawati demanded apology bjp rss company allegedly calling statues dalit leaders installed bsp government expenditure paying tributes patel birth anniversary said statue construction foreign agency followers \n",
      "실제 요약 : for dalit leaders mayawati to bjp \n",
      "예측 요약 :  mumbai university gives birth to bjp workers\n",
      "\n",
      "\n",
      "원문 : students mumbai tata institute social sciences saturday called protests making possession aadhaar compulsory campus compulsion submit aadhaar number cctv everyone back biometric combined extraordinary measures indecent fee hike bound change spirit campus coming years student said \n",
      "실제 요약 : mumbai students protest of aadhaar at \n",
      "예측 요약 :  mumbai to get aadhaar for aadhaar\n",
      "\n",
      "\n",
      "원문 : australian cricketers association rejected latest pay offer cricket board cricket australia proposed share surplus revenue board male international players female cricketers domestic male players would given fixed amounts said proposal win cricket administrators loss cricket \n",
      "실제 요약 : australian players cricket australia new pay offer \n",
      "예측 요약 :  icc rejects icc for icc\n",
      "\n",
      "\n",
      "원문 : bjp president amit shah cautioned party leaders said bjp yet reach peak speaking bjp national executive meeting bhubaneswar said bjp golden era would come rule entire country panchayats parliament also laid plans party growth southern eastern india \n",
      "실제 요약 : do not be bjp yet to reach shah to bjp men \n",
      "예측 요약 :  bjp working with bjp shah\n",
      "\n",
      "\n",
      "원문 : amy hughes year old british woman ran km week set world record guinness disqualified attempt amy attempting record miles covered week attempt rejected since boyfriend logged challenge amy surpassed previous record nearly five kilometres \n",
      "실제 요약 : woman runs record km on rejects try \n",
      "예측 요약 :  woman breaks record record for most\n",
      "\n",
      "\n",
      "원문 : happy bhag jayegi director aziz sanjeev kumar vidya sinha starrer film patni aur woh per reports casting film underway stated reports original film deals extramarital affair boss secretary reportedly adapted contemporary times \n",
      "실제 요약 : happy director to remake report \n",
      "예측 요약 :  to star in film reports\n",
      "\n",
      "\n",
      "원문 : china first domestically developed aircraft carrier began sea trial sunday state media reported tonne carrier launched april last year expected join navy end year carrier maiden sea trial follows president xi jinping announcement plans build world class navy \n",
      "실제 요약 : china first home built aircraft begins sea trial \n",
      "예측 요약 :  china china st flight to take planes in years\n",
      "\n",
      "\n",
      "원문 : united nations security council holding emergency meeting wednesday called france britain discuss draft resolution condemning demanding full investigation chemical attack syria tuesday britain france us blame syrian government attack killed least people wounded another \n",
      "실제 요약 : un security council to meet today over syria chemical attack \n",
      "예측 요약 :  un suspends emergency after isis attack\n",
      "\n",
      "\n",
      "원문 : ips officer surendra kumar das allegedly consumed poison wednesday passed away admitted hospital passed away due poisoning tried best revive could save stated hospital officials revealed searching ways end life google recently \n",
      "실제 요약 : yr old officer passes away days after \n",
      "예측 요약 :  ias officer dies after being dies\n",
      "\n",
      "\n",
      "원문 : hong kong leased great britain china years december britain signed pact china agreeing return hong kong lease ended meanwhile china promised implement one country two systems policy wherein hong kong would maintain separate political economic system years \n",
      "실제 요약 : china once hong kong to great for years \n",
      "예측 요약 :  china china sign for\n",
      "\n",
      "\n",
      "원문 : picture dad wisconsin us breastfeeding newborn daughter using plastic shield feeding tube syringe gone viral put device feed newborn wife suffered multiple seizures delivery recovering dad would said \n",
      "실제 요약 : picture of us dad goes viral \n",
      "예측 요약 :  us mother uses to pic with\n",
      "\n",
      "\n",
      "원문 : infosys co founder nandan nilekani appointed company non executive chairman thursday said ensure infosys narayana murthy founders healthy relationship calling murthy said invited board unanimously also full support founders \n",
      "실제 요약 : will ensure infosys have good \n",
      "예측 요약 :  infosys is not infosys chairman\n",
      "\n",
      "\n",
      "원문 : first researchers studied visual abilities babies born projecting images pregnant women ultrasound imaging showed foetuses weeks turned heads often look face like images shapes confirm findings researchers flashed face like images foetus different responses \n",
      "실제 요약 : for faces begins in the study \n",
      "예측 요약 :  first woman to have female\n",
      "\n",
      "\n",
      "원문 : least three children died people fell ill due suspected food poisoning house warming party maharashtra raigad police said tuesday subhash mane organised shanti pooja celebratory dinner following people started vomiting complaining stomach pain police believe powder could responsible food poisoning \n",
      "실제 요약 : dead ill due to food at house party \n",
      "예측 요약 :  kids fall ill after food in bihar\n",
      "\n",
      "\n",
      "원문 : wrestler bajrang punia gold men kg final asian wrestling championships defeating south korea lee delhi saturday india first gold tournament sakshi malik vinesh phogat silver medals earlier gold takes india medal tally seven includes four silver medals \n",
      "실제 요약 : india wins gold at asian ships \n",
      "예측 요약 :  wins india th gold at the world\n",
      "\n",
      "\n",
      "원문 : ground floor mumbai rk studio gutted major fire broke sets reality show super dancer saturday reason behind fire reportedly failure electric wiring sparked flames causing fire spread throughout casualties reported since scheduled shooting \n",
      "실제 요약 : tv show set after major fire at mumbai \n",
      "예측 요약 :  mumbai fire breaks out at\n",
      "\n",
      "\n",
      "원문 : co founder ceo group stephen received million last year making highest private equity industry holds around stock alone earned around million dividends year notably largest private equity firm us manages around billion \n",
      "실제 요약 : ceo mn in \n",
      "예측 요약 :  ceo sells for crore\n",
      "\n",
      "\n",
      "원문 : porn streamed digital ad monitor train station washington united states monday evening footage appeared come pornhub reportedly played minutes nearby restaurant employee helped switch remains unclear whether incident caused hackers employees \n",
      "실제 요약 : porn at train station \n",
      "예측 요약 :  porn app users to train in indonesia\n",
      "\n",
      "\n",
      "원문 : calling rafale deal pm narendra modi anil ambani partnership congress president rahul gandhi said inquiry starts mr modi going survive guaranteed one corruption two clear decision maker narendra modi deal done give anil ambani crore added \n",
      "실제 요약 : if an starts on rafale pm modi will not it rahul \n",
      "예측 요약 :  pm modi is the of rahul gandhi\n",
      "\n",
      "\n",
      "원문 : facebook wednesday responded lawsuit accused social network allowing sex trafficking platform human trafficking allowed facebook company spokesperson said lawsuit filed woman claiming lured sex trade age man facebook \n",
      "실제 요약 : sex banned on site facebook responds to lawsuit \n",
      "예측 요약 :  facebook sued for facebook over sexual harassment\n",
      "\n",
      "\n",
      "원문 : pm narendra modi become first foreign dinner white house us president donald trump modi arrive washington tonight three day visit working dinner trump monday one one interaction followed bilateral meetings modi three nation tour usa portugal netherlands \n",
      "실제 요약 : modi to be st international leader to in with trump \n",
      "예측 요약 :  pm modi becomes first indian president\n",
      "\n",
      "\n",
      "원문 : sharing article party filmmaker farah khan hosted shape singer ed sheeran singer sona mohapatra wrote music maker singer members actual fraternity participants obviously wrote joke pr farah party held day ed mumbai concert attended shah rukh khan janhvi kapoor among others \n",
      "실제 요약 : no on party for ed \n",
      "예측 요약 :  ed to song ed\n",
      "\n",
      "\n",
      "원문 : typo read state instead state union spotted tickets meant guests attend president donald trump first address joint session us congress tuesday tickets issued us house representatives error acknowledged \n",
      "실제 요약 : found in tickets to trump state of the union speech \n",
      "예측 요약 :  nasa to give to trump\n",
      "\n",
      "\n",
      "원문 : reacting hollywood actor jaden smith tweet saying wants star bollywood movie user wrote incoming offer bigg boss another user photoshopped jaden poster shah rukh khan deepika padukone om shanti om caption say user also photoshopped jaden family kabhi khushi kabhie gham poster \n",
      "실제 요약 : twitter reacts to smith wish to do bollywood film \n",
      "예측 요약 :  twitter reacts to sidharth asking for her film\n",
      "\n",
      "\n",
      "원문 : british model howard took instagram share picture favourite part body know make less ugly wrote caption said nothing ashamed bloody natural \n",
      "실제 요약 : model shares picture of her on instagram \n",
      "예측 요약 :  model claims she was\n",
      "\n",
      "\n",
      "원문 : top ranked rounder shakib al hasan appointed captain bangladesh team following meeting bangladesh cricket board saturday shakib replaces mashrafe mortaza retired format last month shakib previously captained bangladesh four back country losing \n",
      "실제 요약 : al appointed bangladesh captain \n",
      "예측 요약 :  dropped from test squad for st time\n",
      "\n",
      "\n",
      "원문 : mittal gurugram agrawal garg uttar pradesh kerala jointly topped cbse class board examinations scoring lakh candidates registered exam conducted centres across india centres abroad overall pass percentage \n",
      "실제 요약 : students top cbse class board exams with marks \n",
      "예측 요약 :  up board to give exam exams to\n",
      "\n",
      "\n",
      "원문 : taapsee pannu revealing want actor said first film experience something new start career talking positive response received debut film taapsee added thought turn like even without planning work like proper career \n",
      "실제 요약 : did st film to try new not for career taapsee \n",
      "예측 요약 :  am not taapsee\n",
      "\n",
      "\n",
      "원문 : pakistan believes peaceful co existence desire peace must seen weakness country pm shahid abbasi said saturday also pledged make pakistan defence comes amid long standing territorial dispute military conflict india pakistan led strict patrolling territorial waters arabian sea \n",
      "실제 요약 : our for peace must not be seen as pakistan \n",
      "예측 요약 :  pakistan to work with pakistan\n",
      "\n",
      "\n",
      "원문 : netflix partnering facebook owned messaging platform whatsapp india communicate users content recommendations according reports users netflix whatsapp receive notification opt service whatsapp reportedly confirmed netflix test partner enterprise level revealed details partnership \n",
      "실제 요약 : to partner with whatsapp in india report \n",
      "예측 요약 :  whatsapp to let users whatsapp\n",
      "\n",
      "\n",
      "원문 : sikkim cm pawan kumar wednesday said state reducing poverty aiming become india first poverty free state according united nations country state recorded steepest fall poverty level quickly sikkim said sikkim poverty levels came \n",
      "실제 요약 : fastest in the world to cm \n",
      "예측 요약 :  india to be named first class in years\n",
      "\n",
      "\n",
      "원문 : kolkata knight riders captain gautam gambhir scored unbeaten ball helped kkr register wicket win kings xi punjab ipl fixture thursday batting first kxip put three batsmen scoring two registering reply openers gambhir sunil narine run stand helped kkr chase target overs \n",
      "실제 요약 : gambhir helps kkr register wicket win vs \n",
      "예측 요약 :  gambhir slams kkr for his wicket\n",
      "\n",
      "\n",
      "원문 : north korea slammed us imposing unilateral economic punitive sanctions nuclear ballistic missile programme denouncing us travel ban bars us citizens travelling north korea childish reclusive state said act us better cannot allowed international law \n",
      "실제 요약 : north korea slams us sanctions calls travel ban \n",
      "예측 요약 :  korea threatens to north korea\n",
      "\n",
      "\n",
      "원문 : commander us forces afghanistan general john said russia supplying arms taliban militant group smuggling across afghanistan border accused russia propagating false narrative rise isis afghanistan using claim actions taliban \n",
      "실제 요약 : russia arms to the taliban us \n",
      "예측 요약 :  us taliban taliban to be in syria\n",
      "\n",
      "\n",
      "원문 : rebel shiromani akali dal leaders expelled last month anti party activities sunday launched new party sahib mp ranjit singh president said aim new party shiromani akali dal liberate sikh religious institutions badal family grip \n",
      "실제 요약 : launch new party \n",
      "예측 요약 :  party leader in new york\n",
      "\n",
      "\n",
      "원문 : sonam kapoor brother harshvardhan kapoor took instagram share picture husband anand ahuja wrote lucky man anand ahuja remember first caption also read senior one quite like one bigger heart wished lifetime love \n",
      "실제 요약 : was st sonam brother to anand post marriage \n",
      "예측 요약 :  sonam shares pic with sonam on his th day\n",
      "\n",
      "\n",
      "원문 : government constituted group ministers headed home minister rajnath singh strengthen legal framework deal prevent sexual harassment workplace recommend action required effective execution existing provisions address harassment workplace union ministers nitin gadkari nirmala sitharaman maneka gandhi members \n",
      "실제 요약 : govt sets up to look into sexual harassment at \n",
      "예측 요약 :  cabinet approves of sexual harassment\n",
      "\n",
      "\n",
      "원문 : annual cultural festival iit bombay mood indigo bring british progressive metal band india debut december endorsed jordan mike band known energetic live set receiving wide critical mood indigo attracts students colleges nationwide \n",
      "실제 요약 : to indigo event \n",
      "예측 요약 :  iit bombay to release on\n",
      "\n",
      "\n",
      "원문 : fatwa directing termination marriage issued jd minister khurshid ahmad chanting jai shri ram outside bihar assembly chief minister nitish kumar trust vote minister initially stood actions said islam teaches respect religions later apologised actions meeting nitish kumar \n",
      "실제 요약 : against muslim minister for ram \n",
      "예측 요약 :  what is nitish kumar on nitish kumar\n",
      "\n",
      "\n",
      "원문 : tech billionaires combined net worth trillion according forbes world billionaires list three world five richest people earned fortunes technology firms world tech billionaires got richer past year notably richest person tech fortune microsoft co founder bill gates \n",
      "실제 요약 : tech own trillion of the world wealth \n",
      "예측 요약 :  global biggest in world\n",
      "\n",
      "\n",
      "원문 : bangladesh former world champions sri lanka failed get direct qualification world super due low rankings teams fight place group stage competition sri lanka bangladesh six qualifiers group stage \n",
      "실제 요약 : desh former champions sl miss wc entry \n",
      "예측 요약 :  india lose world cup for the first time ever\n",
      "\n",
      "\n",
      "원문 : israeli army shot dead two palestinians friday near gaza border clashes erupted us president donald trump recognised jerusalem israel capital israeli army said hundreds palestinians rolling burning tyres throwing rocks soldiers across border clashes erupted israel palestine claim jerusalem capital \n",
      "실제 요약 : israeli army kills in over \n",
      "예측 요약 :  army launches its first military\n",
      "\n",
      "\n",
      "원문 : world number one test batsman steve smith said tries incorporate traits best batsmen world batting copied bit ab de villiers open set play ball said learnt little bit virat kohli way hits ball offside added \n",
      "실제 요약 : have from kohli de steve smith \n",
      "예측 요약 :  would be better than world no steve smith\n",
      "\n",
      "\n",
      "원문 : us envoy united nations nikki haley sunday said president donald trump considering sanctions russia iran condemned us missile strikes syrian airbase iran called us strikes dangerous unilateral action would strengthen terrorists russia called aggression sovereign state violation international law \n",
      "실제 요약 : trump sanctions against russia iran over syria \n",
      "예측 요약 :  us should not allow iran to iran prez\n",
      "\n",
      "\n",
      "원문 : mumbai police additional cp manoj sharma said police registered fir actor alok nath based complaint vinta nanda accused alok raping years ago october vinta alleged metoo post person film television industry raped alok denied vinta allegations \n",
      "실제 요약 : rape case filed against over allegations by \n",
      "예측 요약 :  police files fir against over rape case\n",
      "\n",
      "\n",
      "원문 : led south sudan government slammed giving parliamentarians buy cars presidential spokesperson defended government move saying mps could expected use motorbikes south sudan facing economic crisis primarily caused ongoing civil war began \n",
      "실제 요약 : south gives mps lakh each to buy car \n",
      "예측 요약 :  us asks to pay crore to avoid\n",
      "\n",
      "\n",
      "원문 : niti aayog ceo amitabh kant friday said indian states cannot get tourist wants eat drink wants eat drink individual business states business kant made statement india economic summit world economic forum asked states banning beef alcohol \n",
      "실제 요약 : states cannot what tourists can ceo \n",
      "예측 요약 :  cannot get ceo\n",
      "\n",
      "\n"
     ]
    }
   ],
   "source": [
    "for i in range(50, 100):\n",
    "    print(\"원문 :\", seq2text(encoder_input_test[i]))\n",
    "    print(\"실제 요약 :\", seq2summary(decoder_input_test[i]))\n",
    "    print(\"예측 요약 :\", decode_sequence(encoder_input_test[i].reshape(1, text_max_len)))\n",
    "    print(\"\\n\")"
   ]
  },
  {
   "cell_type": "code",
   "execution_count": null,
   "id": "0cbafc56",
   "metadata": {},
   "outputs": [],
   "source": [
    "추출적 요약 해보기"
   ]
  },
  {
   "cell_type": "code",
   "execution_count": 63,
   "id": "da55f8be",
   "metadata": {},
   "outputs": [],
   "source": [
    "import requests\n",
    "from summa.summarizer import summarize"
   ]
  },
  {
   "cell_type": "code",
   "execution_count": 64,
   "id": "ab94b52d",
   "metadata": {},
   "outputs": [],
   "source": [
    "text = requests.get('http://rare-technologies.com/the_matrix_synopsis.txt').text"
   ]
  },
  {
   "cell_type": "code",
   "execution_count": 65,
   "id": "6b957368",
   "metadata": {
    "scrolled": true
   },
   "outputs": [
    {
     "name": "stdout",
     "output_type": "stream",
     "text": [
      "The screen is filled with green, cascading code which gives way to the title, The Matrix.\r\n",
      "\r\n",
      "A phone rings and text appears on the screen: \"Call trans opt: received. 2-19-98 13:24:18 REC: Log>\" As a conversation takes place between Trinity (Carrie-Anne Moss) and Cypher (Joe Pantoliano), two free humans, a table of random green numbers are being scanned and individual numbers selected, creating a series of digits not unlike an ordinary phone number, as if a code is being deciphered or a call is being traced.\r\n",
      "\r\n",
      "Trinity discusses some unknown person. Cypher taunts Trinity, suggesting she enjoys watching him. Trinity counters that \"Morpheus (Laurence Fishburne) says he may be 'the One',\" just as the sound of a number being selected alerts Trinity that someone may be tracing their call. She ends the call.\r\n",
      "\r\n",
      "Armed policemen move down a darkened, decrepit hallway in the Heart O' the City Hotel, their flashlight beam bouncing just ahead of them. They come to room 303, kick down the door and find a woman dressed in black, facing away from them. It's Trinity. She brings her hands up from the laptop she's working on at their command.\r\n",
      "\r\n",
      "Outside the hotel a car drives up and three agents appear in neatly pressed black suits. They are Agent Smith (Hugo Weaving), Agent Brown (Paul Goddard), and Agent Jones (Robert Taylor). Agent Smith and the presiding police lieutenant argue. Agent Smith admonishes the policeman that they were given specific orders to contact the agents first, for their\n"
     ]
    }
   ],
   "source": [
    "print(text[:1500])"
   ]
  },
  {
   "cell_type": "code",
   "execution_count": 68,
   "id": "aa865150",
   "metadata": {},
   "outputs": [
    {
     "name": "stdout",
     "output_type": "stream",
     "text": [
      "Summary:\n",
      "Trinity takes Neo to Morpheus.\n",
      "Morpheus, Trinity, Neo, Apoc, Switch, Mouse and Cypher are jacked into the Matrix.\n",
      "Trinity brings the helicopter down to the floor that Morpheus is on and Neo opens fire on the three Agents.\n"
     ]
    }
   ],
   "source": [
    "print('Summary:')\n",
    "print(summarize(text, words=50))"
   ]
  },
  {
   "cell_type": "code",
   "execution_count": 70,
   "id": "e30a593f",
   "metadata": {},
   "outputs": [
    {
     "name": "stdout",
     "output_type": "stream",
     "text": [
      "개별 샘플 비교 결과:\n",
      "    Sample Index                    Metric  Actual Summary  Predicted Summary\n",
      "0             50           Keyword Overlap        0.085714           0.085714\n",
      "1             50  Grammatical Completeness        1.000000           1.000000\n",
      "2             51           Keyword Overlap        0.080000           0.000000\n",
      "3             51  Grammatical Completeness        1.000000           1.000000\n",
      "4             52           Keyword Overlap        0.161290           0.032258\n",
      "..           ...                       ...             ...                ...\n",
      "95            97  Grammatical Completeness        1.000000           1.000000\n",
      "96            98           Keyword Overlap        0.107143           0.000000\n",
      "97            98  Grammatical Completeness        1.000000           1.000000\n",
      "98            99           Keyword Overlap        0.107143           0.107143\n",
      "99            99  Grammatical Completeness        1.000000           1.000000\n",
      "\n",
      "[100 rows x 4 columns]\n",
      "\n",
      "평균 비교 결과:\n",
      "                          Sample Index  Actual Summary  Predicted Summary\n",
      "Metric                                                                   \n",
      "Grammatical Completeness          74.5        1.000000           1.000000\n",
      "Keyword Overlap                   74.5        0.107688           0.054642\n"
     ]
    }
   ],
   "source": [
    "\n",
    "\n",
    "# encoder_input_test와 decoder_input_test는 numpy 배열로 변환\n",
    "encoder_input_test = np.array(encoder_input_test)\n",
    "decoder_input_test = np.array(decoder_input_test)\n",
    "\n",
    "def compare_summaries(original_text, actual_summary, predicted_summary):\n",
    "    def extract_keywords(text):\n",
    "        # 불용어 제거 및 키워드 추출\n",
    "        stop_words = set(['the', 'a', 'an', 'and', 'or', 'but', 'in', 'on', 'at', 'to', 'for', 'of'])\n",
    "        words = text.lower().split()\n",
    "        keywords = [word for word in words if word not in stop_words]\n",
    "        return set(keywords)\n",
    "    \n",
    "    def check_grammar_completeness(summary):\n",
    "        # 간단한 문법 완성도 평가\n",
    "        sentences = summary.split('.')\n",
    "        complete_sentences = sum(1 for s in sentences if s.strip())\n",
    "        return complete_sentences / max(len(sentences), 1)\n",
    "    \n",
    "    # 키워드 포함 비율 계산\n",
    "    original_keywords = extract_keywords(original_text)\n",
    "    actual_keywords = extract_keywords(actual_summary)\n",
    "    predicted_keywords = extract_keywords(predicted_summary)\n",
    "    \n",
    "    actual_keyword_overlap = len(actual_keywords & original_keywords) / len(original_keywords or [1])\n",
    "    predicted_keyword_overlap = len(predicted_keywords & original_keywords) / len(original_keywords or [1])\n",
    "    \n",
    "    # 문법 완성도 계산\n",
    "    actual_grammar_score = check_grammar_completeness(actual_summary)\n",
    "    predicted_grammar_score = check_grammar_completeness(predicted_summary)\n",
    "    \n",
    "    # 결과 데이터프레임 생성\n",
    "    results = pd.DataFrame({\n",
    "        \"Metric\": [\"Keyword Overlap\", \"Grammatical Completeness\"],\n",
    "        \"Actual Summary\": [actual_keyword_overlap, actual_grammar_score],\n",
    "        \"Predicted Summary\": [predicted_keyword_overlap, predicted_grammar_score]\n",
    "    })\n",
    "    \n",
    "    return results\n",
    "\n",
    "# 결과 저장을 위한 리스트 초기화\n",
    "all_comparisons = []\n",
    "\n",
    "# 50부터 100까지의 샘플에 대해 비교\n",
    "for i in range(50, 100):\n",
    "    # 원문 텍스트 변환\n",
    "    original_text = seq2text(encoder_input_test[i])\n",
    "    \n",
    "    # 실제 요약 텍스트 변환\n",
    "    actual_summary = seq2summary(decoder_input_test[i])\n",
    "    \n",
    "    # 예측 요약 텍스트 변환\n",
    "    predicted_summary = decode_sequence(encoder_input_test[i].reshape(1, -1))\n",
    "    \n",
    "    # 비교 수행\n",
    "    comparison = compare_summaries(original_text, actual_summary, predicted_summary)\n",
    "    \n",
    "    # 결과에 샘플 인덱스 추가\n",
    "    comparison.insert(0, 'Sample Index', [i, i])\n",
    "    \n",
    "    # 결과 리스트에 추가\n",
    "    all_comparisons.append(comparison)\n",
    "\n",
    "# 모든 비교 결과 통합\n",
    "final_comparison = pd.concat(all_comparisons, ignore_index=True)\n",
    "\n",
    "# 평균 계산\n",
    "avg_comparison = final_comparison.groupby('Metric').mean()\n",
    "print(\"개별 샘플 비교 결과:\")\n",
    "print(final_comparison)\n",
    "print(\"\\n평균 비교 결과:\")\n",
    "print(avg_comparison)\n"
   ]
  },
  {
   "cell_type": "code",
   "execution_count": null,
   "id": "89bcd7e8",
   "metadata": {},
   "outputs": [],
   "source": []
  }
 ],
 "metadata": {
  "kernelspec": {
   "display_name": "Python 3 (ipykernel)",
   "language": "python",
   "name": "python3"
  },
  "language_info": {
   "codemirror_mode": {
    "name": "ipython",
    "version": 3
   },
   "file_extension": ".py",
   "mimetype": "text/x-python",
   "name": "python",
   "nbconvert_exporter": "python",
   "pygments_lexer": "ipython3",
   "version": "3.9.7"
  }
 },
 "nbformat": 4,
 "nbformat_minor": 5
}
