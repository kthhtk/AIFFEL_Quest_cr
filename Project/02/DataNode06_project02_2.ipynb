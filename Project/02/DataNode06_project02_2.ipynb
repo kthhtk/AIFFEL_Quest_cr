{
  "nbformat": 4,
  "nbformat_minor": 0,
  "metadata": {
    "colab": {
      "provenance": [],
      "authorship_tag": "ABX9TyMcKBVub7b1BJ+C7XINnElB",
      "include_colab_link": true
    },
    "kernelspec": {
      "name": "python3",
      "display_name": "Python 3"
    },
    "language_info": {
      "name": "python"
    }
  },
  "cells": [
    {
      "cell_type": "markdown",
      "metadata": {
        "id": "view-in-github",
        "colab_type": "text"
      },
      "source": [
        "<a href=\"https://colab.research.google.com/github/kthhtk/AIFFEL_Quest_cr/blob/master/Project/02/DataNode06_project02_2.ipynb\" target=\"_parent\"><img src=\"https://colab.research.google.com/assets/colab-badge.svg\" alt=\"Open In Colab\"/></a>"
      ]
    },
    {
      "cell_type": "code",
      "execution_count": 1,
      "metadata": {
        "colab": {
          "base_uri": "https://localhost:8080/"
        },
        "id": "xQx2ksJTRFv2",
        "outputId": "706770d1-f097-4c44-a2d3-3cf8118ff40e"
      },
      "outputs": [
        {
          "output_type": "stream",
          "name": "stdout",
          "text": [
            "1.5.2\n"
          ]
        }
      ],
      "source": [
        "import sklearn\n",
        "\n",
        "print(sklearn.__version__)"
      ]
    },
    {
      "cell_type": "code",
      "source": [
        "# 1. 필요한 모듈 import 하기\n",
        "from sklearn.datasets import load_wine\n",
        "from sklearn.model_selection import train_test_split\n",
        "from sklearn.metrics import classification_report\n",
        "\n",
        "from sklearn.tree import DecisionTreeClassifier\n",
        "from sklearn.ensemble import RandomForestClassifier\n",
        "from sklearn.svm import SVC\n",
        "from sklearn.linear_model import SGDClassifier, LogisticRegression\n",
        "from sklearn.metrics import accuracy_score\n",
        "\n",
        "import pandas as pd\n"
      ],
      "metadata": {
        "id": "BMyW4ps5RZUG"
      },
      "execution_count": 2,
      "outputs": []
    },
    {
      "cell_type": "code",
      "source": [
        "# 2. 데이터 준비\n",
        "wine = load_wine()"
      ],
      "metadata": {
        "id": "xltTzH39RfkG"
      },
      "execution_count": 3,
      "outputs": []
    },
    {
      "cell_type": "code",
      "source": [
        "# 3. 데이터 이해하기\n",
        "\n",
        "# Feature Data 지정하기\n",
        "X = wine.data\n",
        "\n",
        "# Laber Data 지정하기\n",
        "y = wine.target\n",
        "\n",
        "# Target Names 출력해보기\n",
        "wine.target_names\n",
        "\n",
        "# 데이터 Describe 해 보기\n",
        "df = pd.DataFrame(data=X,columns=wine.feature_names)\n",
        "print(df.describe())\n"
      ],
      "metadata": {
        "colab": {
          "base_uri": "https://localhost:8080/"
        },
        "id": "oy3Vxx3eRe91",
        "outputId": "67d43969-2eef-44a7-c041-bbdafcf347a0"
      },
      "execution_count": 4,
      "outputs": [
        {
          "output_type": "stream",
          "name": "stdout",
          "text": [
            "          alcohol  malic_acid         ash  alcalinity_of_ash   magnesium  \\\n",
            "count  178.000000  178.000000  178.000000         178.000000  178.000000   \n",
            "mean    13.000618    2.336348    2.366517          19.494944   99.741573   \n",
            "std      0.811827    1.117146    0.274344           3.339564   14.282484   \n",
            "min     11.030000    0.740000    1.360000          10.600000   70.000000   \n",
            "25%     12.362500    1.602500    2.210000          17.200000   88.000000   \n",
            "50%     13.050000    1.865000    2.360000          19.500000   98.000000   \n",
            "75%     13.677500    3.082500    2.557500          21.500000  107.000000   \n",
            "max     14.830000    5.800000    3.230000          30.000000  162.000000   \n",
            "\n",
            "       total_phenols  flavanoids  nonflavanoid_phenols  proanthocyanins  \\\n",
            "count     178.000000  178.000000            178.000000       178.000000   \n",
            "mean        2.295112    2.029270              0.361854         1.590899   \n",
            "std         0.625851    0.998859              0.124453         0.572359   \n",
            "min         0.980000    0.340000              0.130000         0.410000   \n",
            "25%         1.742500    1.205000              0.270000         1.250000   \n",
            "50%         2.355000    2.135000              0.340000         1.555000   \n",
            "75%         2.800000    2.875000              0.437500         1.950000   \n",
            "max         3.880000    5.080000              0.660000         3.580000   \n",
            "\n",
            "       color_intensity         hue  od280/od315_of_diluted_wines      proline  \n",
            "count       178.000000  178.000000                    178.000000   178.000000  \n",
            "mean          5.058090    0.957449                      2.611685   746.893258  \n",
            "std           2.318286    0.228572                      0.709990   314.907474  \n",
            "min           1.280000    0.480000                      1.270000   278.000000  \n",
            "25%           3.220000    0.782500                      1.937500   500.500000  \n",
            "50%           4.690000    0.965000                      2.780000   673.500000  \n",
            "75%           6.200000    1.120000                      3.170000   985.000000  \n",
            "max          13.000000    1.710000                      4.000000  1680.000000  \n"
          ]
        }
      ]
    },
    {
      "cell_type": "code",
      "source": [
        "# 4. train, test 데이터 분리 (테스트20%)\n",
        "X_train, X_test, y_train, y_test = train_test_split(X, y, test_size=0.2, random_state=42)\n"
      ],
      "metadata": {
        "id": "_kfKy9sJRe54"
      },
      "execution_count": 5,
      "outputs": []
    },
    {
      "cell_type": "code",
      "source": [
        "# 5. 다양한 모델로 학습시켜보기\n",
        "models = {\n",
        "    'Decision Tree': DecisionTreeClassifier(random_state=42),\n",
        "    'Random Forest': RandomForestClassifier(random_state=42),\n",
        "    'SVM': SVC(random_state=42),\n",
        "    'SGD Classifier': SGDClassifier(max_iter=1000, random_state=42),\n",
        "    'Logistic Regression': LogisticRegression(max_iter=5000, random_state=42)\n",
        "}\n",
        "\n",
        "#  각 모델 학습\n",
        "accuracy_dict = {}\n",
        "\n",
        "for name, model in models.items():\n",
        "    # 모델 학습\n",
        "    model.fit(X_train, y_train)\n",
        "    y_pred = model.predict(X_test)\n",
        "\n",
        "    # 정확도 계산\n",
        "    accuracy = accuracy_score(y_test, y_pred)\n",
        "    accuracy_dict[name] = accuracy\n",
        "\n",
        "    print(\"-\" * 100)\n",
        "    print(f\"\\n{name} 모델 성능:\")\n",
        "    print(f\"전체 테스트 데이터 수: {len(y_test)}\")\n",
        "    print(f\"맞은 개수: {(y_test == y_pred).sum()}\")\n",
        "    print(f\"틀린 개수: {(y_test != y_pred).sum()}\")\n",
        "    print(f\"정확도: {accuracy:.4f}\")\n",
        "\n",
        "    print(\"\\n상세 성능 보고서:\")\n",
        "    # zero_division 매개변수 추가\n",
        "    print(classification_report(y_test, y_pred, zero_division=1))\n",
        "\n",
        "# 가장 좋은 모델 출력\n",
        "best_model = max(accuracy_dict.items(), key=lambda x: x[1])\n",
        "print(\"-\" * 100)\n",
        "print(\"-\" * 100)\n",
        "print(\"\\n최고 성능 모델:\", best_model[0], f\"(정확도: {best_model[1]:.4f})\")\n",
        "print(\"-\" * 100)\n",
        "print(\"-\" * 100)\n",
        "# 6. 모델을 평가해보기\n",
        "\n",
        "# classification_report 지표를 사용하여 모델을 평가하였다.\n",
        "# (정밀,재현,f1 등 여러 지표를 한번에 확인 가능하며 각 클래스별, 전체평균 성능 확인 가능)\n",
        "\n",
        "# Random Forest 모델이 정확도 100% 로 가장 뛰어났다.\n",
        "\n",
        "\n"
      ],
      "metadata": {
        "colab": {
          "base_uri": "https://localhost:8080/"
        },
        "id": "TB7wTY8xbAhP",
        "outputId": "44bc735f-b407-4c8d-aac0-2bba647c86d7"
      },
      "execution_count": 13,
      "outputs": [
        {
          "output_type": "stream",
          "name": "stdout",
          "text": [
            "----------------------------------------------------------------------------------------------------\n",
            "\n",
            "Decision Tree 모델 성능:\n",
            "전체 테스트 데이터 수: 36\n",
            "맞은 개수: 34\n",
            "틀린 개수: 2\n",
            "정확도: 0.9444\n",
            "\n",
            "상세 성능 보고서:\n",
            "              precision    recall  f1-score   support\n",
            "\n",
            "           0       0.93      0.93      0.93        14\n",
            "           1       0.93      1.00      0.97        14\n",
            "           2       1.00      0.88      0.93         8\n",
            "\n",
            "    accuracy                           0.94        36\n",
            "   macro avg       0.95      0.93      0.94        36\n",
            "weighted avg       0.95      0.94      0.94        36\n",
            "\n",
            "----------------------------------------------------------------------------------------------------\n",
            "\n",
            "Random Forest 모델 성능:\n",
            "전체 테스트 데이터 수: 36\n",
            "맞은 개수: 36\n",
            "틀린 개수: 0\n",
            "정확도: 1.0000\n",
            "\n",
            "상세 성능 보고서:\n",
            "              precision    recall  f1-score   support\n",
            "\n",
            "           0       1.00      1.00      1.00        14\n",
            "           1       1.00      1.00      1.00        14\n",
            "           2       1.00      1.00      1.00         8\n",
            "\n",
            "    accuracy                           1.00        36\n",
            "   macro avg       1.00      1.00      1.00        36\n",
            "weighted avg       1.00      1.00      1.00        36\n",
            "\n",
            "----------------------------------------------------------------------------------------------------\n",
            "\n",
            "SVM 모델 성능:\n",
            "전체 테스트 데이터 수: 36\n",
            "맞은 개수: 29\n",
            "틀린 개수: 7\n",
            "정확도: 0.8056\n",
            "\n",
            "상세 성능 보고서:\n",
            "              precision    recall  f1-score   support\n",
            "\n",
            "           0       1.00      1.00      1.00        14\n",
            "           1       0.73      0.79      0.76        14\n",
            "           2       0.57      0.50      0.53         8\n",
            "\n",
            "    accuracy                           0.81        36\n",
            "   macro avg       0.77      0.76      0.76        36\n",
            "weighted avg       0.80      0.81      0.80        36\n",
            "\n",
            "----------------------------------------------------------------------------------------------------\n",
            "\n",
            "SGD Classifier 모델 성능:\n",
            "전체 테스트 데이터 수: 36\n",
            "맞은 개수: 26\n",
            "틀린 개수: 10\n",
            "정확도: 0.7222\n",
            "\n",
            "상세 성능 보고서:\n",
            "              precision    recall  f1-score   support\n",
            "\n",
            "           0       0.81      0.93      0.87        14\n",
            "           1       0.65      0.93      0.76        14\n",
            "           2       1.00      0.00      0.00         8\n",
            "\n",
            "    accuracy                           0.72        36\n",
            "   macro avg       0.82      0.62      0.54        36\n",
            "weighted avg       0.79      0.72      0.63        36\n",
            "\n",
            "----------------------------------------------------------------------------------------------------\n",
            "\n",
            "Logistic Regression 모델 성능:\n",
            "전체 테스트 데이터 수: 36\n",
            "맞은 개수: 36\n",
            "틀린 개수: 0\n",
            "정확도: 1.0000\n",
            "\n",
            "상세 성능 보고서:\n",
            "              precision    recall  f1-score   support\n",
            "\n",
            "           0       1.00      1.00      1.00        14\n",
            "           1       1.00      1.00      1.00        14\n",
            "           2       1.00      1.00      1.00         8\n",
            "\n",
            "    accuracy                           1.00        36\n",
            "   macro avg       1.00      1.00      1.00        36\n",
            "weighted avg       1.00      1.00      1.00        36\n",
            "\n",
            "----------------------------------------------------------------------------------------------------\n",
            "----------------------------------------------------------------------------------------------------\n",
            "\n",
            "최고 성능 모델: Random Forest (정확도: 1.0000)\n",
            "----------------------------------------------------------------------------------------------------\n",
            "----------------------------------------------------------------------------------------------------\n"
          ]
        }
      ]
    }
  ]
}