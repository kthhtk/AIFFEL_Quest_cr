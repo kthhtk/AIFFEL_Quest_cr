{
  "nbformat": 4,
  "nbformat_minor": 0,
  "metadata": {
    "colab": {
      "provenance": [],
      "authorship_tag": "ABX9TyOlO3i8IXCfunAoFI4zbNjq",
      "include_colab_link": true
    },
    "kernelspec": {
      "name": "python3",
      "display_name": "Python 3"
    },
    "language_info": {
      "name": "python"
    }
  },
  "cells": [
    {
      "cell_type": "markdown",
      "metadata": {
        "id": "view-in-github",
        "colab_type": "text"
      },
      "source": [
        "<a href=\"https://colab.research.google.com/github/kthhtk/AIFFEL_Quest_cr/blob/master/Project/02/DataNode06_project02_1.ipynb\" target=\"_parent\"><img src=\"https://colab.research.google.com/assets/colab-badge.svg\" alt=\"Open In Colab\"/></a>"
      ]
    },
    {
      "cell_type": "code",
      "execution_count": 1,
      "metadata": {
        "colab": {
          "base_uri": "https://localhost:8080/"
        },
        "id": "xQx2ksJTRFv2",
        "outputId": "3c47b0f4-9308-43bd-9373-4648fb4b9fdd"
      },
      "outputs": [
        {
          "output_type": "stream",
          "name": "stdout",
          "text": [
            "1.5.2\n"
          ]
        }
      ],
      "source": [
        "import sklearn\n",
        "\n",
        "print(sklearn.__version__)"
      ]
    },
    {
      "cell_type": "code",
      "source": [
        "# 1. 필요한 모듈 import 하기\n",
        "from sklearn.datasets import load_digits\n",
        "from sklearn.model_selection import train_test_split\n",
        "from sklearn.metrics import classification_report\n",
        "\n",
        "from sklearn.tree import DecisionTreeClassifier\n",
        "from sklearn.ensemble import RandomForestClassifier\n",
        "from sklearn.svm import SVC\n",
        "from sklearn.linear_model import SGDClassifier, LogisticRegression\n",
        "from sklearn.metrics import accuracy_score\n",
        "\n",
        "import pandas as pd\n"
      ],
      "metadata": {
        "id": "BMyW4ps5RZUG"
      },
      "execution_count": 37,
      "outputs": []
    },
    {
      "cell_type": "code",
      "source": [
        "# 2. 데이터 준비\n",
        "digits = load_digits()"
      ],
      "metadata": {
        "id": "xltTzH39RfkG"
      },
      "execution_count": 38,
      "outputs": []
    },
    {
      "cell_type": "code",
      "source": [
        "# 3. 데이터 이해하기\n",
        "\n",
        "# Feature Data 지정하기\n",
        "X = digits.data\n",
        "\n",
        "# Laber Data 지정하기\n",
        "y = digits.target\n",
        "\n",
        "# Target Names 출력해보기\n",
        "digits.target_names\n",
        "\n",
        "# 데이터 Describe 해 보기\n",
        "df = pd.DataFrame(data=x,columns=digits.feature_names)\n",
        "print(df.head().describe())\n"
      ],
      "metadata": {
        "colab": {
          "base_uri": "https://localhost:8080/"
        },
        "id": "oy3Vxx3eRe91",
        "outputId": "f90158d5-c336-44a8-ce55-b576d9600f3c"
      },
      "execution_count": 39,
      "outputs": [
        {
          "output_type": "stream",
          "name": "stdout",
          "text": [
            "       pixel_0_0  pixel_0_1  pixel_0_2  pixel_0_3  pixel_0_4  pixel_0_5  \\\n",
            "count        5.0        5.0   5.000000   5.000000   5.000000   5.000000   \n",
            "mean         0.0        0.0   2.400000   9.000000  12.200000   3.800000   \n",
            "std          0.0        0.0   3.361547   6.123724   2.280351   4.969909   \n",
            "min          0.0        0.0   0.000000   1.000000   9.000000   0.000000   \n",
            "25%          0.0        0.0   0.000000   4.000000  11.000000   1.000000   \n",
            "50%          0.0        0.0   0.000000  12.000000  13.000000   1.000000   \n",
            "75%          0.0        0.0   5.000000  13.000000  13.000000   5.000000   \n",
            "max          0.0        0.0   7.000000  15.000000  15.000000  12.000000   \n",
            "\n",
            "       pixel_0_6  pixel_0_7  pixel_1_0  pixel_1_1  ...  pixel_6_6  pixel_6_7  \\\n",
            "count        5.0        5.0        5.0   5.000000  ...   5.000000        5.0   \n",
            "mean         0.0        0.0        0.0   1.600000  ...   2.800000        0.0   \n",
            "std          0.0        0.0        0.0   3.577709  ...   4.086563        0.0   \n",
            "min          0.0        0.0        0.0   0.000000  ...   0.000000        0.0   \n",
            "25%          0.0        0.0        0.0   0.000000  ...   0.000000        0.0   \n",
            "50%          0.0        0.0        0.0   0.000000  ...   0.000000        0.0   \n",
            "75%          0.0        0.0        0.0   0.000000  ...   5.000000        0.0   \n",
            "max          0.0        0.0        0.0   8.000000  ...   9.000000        0.0   \n",
            "\n",
            "       pixel_7_0  pixel_7_1  pixel_7_2  pixel_7_3  pixel_7_4  pixel_7_5  \\\n",
            "count        5.0        5.0   5.000000   5.000000   5.000000    5.00000   \n",
            "mean         0.0        0.0   2.600000   8.400000  13.200000    7.80000   \n",
            "std          0.0        0.0   3.577709   5.458938   2.774887    6.09918   \n",
            "min          0.0        0.0   0.000000   2.000000  10.000000    0.00000   \n",
            "25%          0.0        0.0   0.000000   3.000000  11.000000    4.00000   \n",
            "50%          0.0        0.0   0.000000  11.000000  13.000000    9.00000   \n",
            "75%          0.0        0.0   6.000000  13.000000  16.000000   10.00000   \n",
            "max          0.0        0.0   7.000000  13.000000  16.000000   16.00000   \n",
            "\n",
            "       pixel_7_6  pixel_7_7  \n",
            "count   5.000000        5.0  \n",
            "mean    1.800000        0.0  \n",
            "std     4.024922        0.0  \n",
            "min     0.000000        0.0  \n",
            "25%     0.000000        0.0  \n",
            "50%     0.000000        0.0  \n",
            "75%     0.000000        0.0  \n",
            "max     9.000000        0.0  \n",
            "\n",
            "[8 rows x 64 columns]\n"
          ]
        }
      ]
    },
    {
      "cell_type": "code",
      "source": [],
      "metadata": {
        "id": "0NWn2aD-Y6oj"
      },
      "execution_count": null,
      "outputs": []
    },
    {
      "cell_type": "code",
      "source": [
        "# 4. train, test 데이터 분리 (테스트20%)\n",
        "X_train, X_test, y_train, y_test = train_test_split(X, y, test_size=0.2, random_state=42)\n"
      ],
      "metadata": {
        "id": "_kfKy9sJRe54"
      },
      "execution_count": 40,
      "outputs": []
    },
    {
      "cell_type": "code",
      "source": [
        "# 5. 다양한 모델로 학습시켜보기\n",
        "models = {\n",
        "    'Decision Tree': DecisionTreeClassifier(),\n",
        "    'Random Forest': RandomForestClassifier(),\n",
        "    'SVM': SVC(),\n",
        "    'SGD Classifier': SGDClassifier(max_iter=1000),\n",
        "    'Logistic Regression': LogisticRegression(max_iter=1000)\n",
        "}\n",
        "\n",
        "# 각 모델 학습 및 평가\n",
        "results = {}\n",
        "for name, model in models.items():\n",
        "    # 모델 학습\n",
        "    model.fit(X_train, y_train)\n",
        "\n",
        "    # 예측\n",
        "    y_pred = model.predict(X_test)\n",
        "\n",
        "    # 정확도 점수\n",
        "    accuracy = accuracy_score(y_test, y_pred)\n",
        "    print(\"-\" * 200)\n",
        "    print(f\"\\n{name} 모델 성능:\")\n",
        "    print(f\"전체 테스트 데이터 수: {len(y_test)}\")\n",
        "    print(f\"맞은 개수: {(y_test == y_pred).sum()}\")\n",
        "    print(f\"틀린 개수: {(y_test != y_pred).sum()}\")\n",
        "    print(f\"정확도: {accuracy:.4f}\")\n",
        "\n",
        "    # Classification Report 출력\n",
        "    print(\"\\nDetailed Performance:\")\n",
        "    print(classification_report(y_test, y_pred))\n",
        "\n",
        "    # 결과 저장\n",
        "    results[name] = classification_report(y_test, y_pred, output_dict=True)\n",
        "\n",
        "\n",
        "# 6. 모델을 평가해보기\n",
        "'''\n",
        " classification_report 지표를 사용하여 모델을 평가하였다.\n",
        " (정밀,재현,f1 등 여러 지표를 한번에 확인 가능하며 각 클래스별, 전체평균 성능 확인 가능)\n",
        "\n",
        " svm 모델이 틀린개수 5개, 정확도 0.98 로 가장 뛰어났다.\n",
        " '''\n",
        "\n"
      ],
      "metadata": {
        "colab": {
          "base_uri": "https://localhost:8080/"
        },
        "id": "TB7wTY8xbAhP",
        "outputId": "63dfa719-728e-4020-eac3-94df10722828"
      },
      "execution_count": 41,
      "outputs": [
        {
          "output_type": "stream",
          "name": "stdout",
          "text": [
            "--------------------------------------------------------------------------------------------------------------------------------------------------------------------------------------------------------\n",
            "\n",
            "Decision Tree 모델 성능:\n",
            "전체 테스트 데이터 수: 360\n",
            "맞은 개수: 311\n",
            "틀린 개수: 49\n",
            "정확도: 0.8639\n",
            "\n",
            "Detailed Performance:\n",
            "              precision    recall  f1-score   support\n",
            "\n",
            "           0       0.94      0.88      0.91        33\n",
            "           1       0.85      0.79      0.81        28\n",
            "           2       0.90      0.82      0.86        33\n",
            "           3       0.79      0.91      0.85        34\n",
            "           4       0.87      0.87      0.87        46\n",
            "           5       0.90      0.94      0.92        47\n",
            "           6       0.87      0.97      0.92        35\n",
            "           7       0.83      0.88      0.86        34\n",
            "           8       0.80      0.67      0.73        30\n",
            "           9       0.87      0.85      0.86        40\n",
            "\n",
            "    accuracy                           0.86       360\n",
            "   macro avg       0.86      0.86      0.86       360\n",
            "weighted avg       0.86      0.86      0.86       360\n",
            "\n",
            "--------------------------------------------------------------------------------------------------------------------------------------------------------------------------------------------------------\n",
            "\n",
            "Random Forest 모델 성능:\n",
            "전체 테스트 데이터 수: 360\n",
            "맞은 개수: 351\n",
            "틀린 개수: 9\n",
            "정확도: 0.9750\n",
            "\n",
            "Detailed Performance:\n",
            "              precision    recall  f1-score   support\n",
            "\n",
            "           0       1.00      0.97      0.98        33\n",
            "           1       0.97      1.00      0.98        28\n",
            "           2       1.00      1.00      1.00        33\n",
            "           3       1.00      0.97      0.99        34\n",
            "           4       0.98      1.00      0.99        46\n",
            "           5       0.92      0.98      0.95        47\n",
            "           6       0.97      0.97      0.97        35\n",
            "           7       0.97      0.97      0.97        34\n",
            "           8       1.00      0.93      0.97        30\n",
            "           9       0.97      0.95      0.96        40\n",
            "\n",
            "    accuracy                           0.97       360\n",
            "   macro avg       0.98      0.97      0.98       360\n",
            "weighted avg       0.98      0.97      0.98       360\n",
            "\n",
            "--------------------------------------------------------------------------------------------------------------------------------------------------------------------------------------------------------\n",
            "\n",
            "SVM 모델 성능:\n",
            "전체 테스트 데이터 수: 360\n",
            "맞은 개수: 355\n",
            "틀린 개수: 5\n",
            "정확도: 0.9861\n",
            "\n",
            "Detailed Performance:\n",
            "              precision    recall  f1-score   support\n",
            "\n",
            "           0       1.00      1.00      1.00        33\n",
            "           1       1.00      1.00      1.00        28\n",
            "           2       1.00      1.00      1.00        33\n",
            "           3       1.00      1.00      1.00        34\n",
            "           4       1.00      1.00      1.00        46\n",
            "           5       0.98      0.98      0.98        47\n",
            "           6       0.97      1.00      0.99        35\n",
            "           7       0.97      0.97      0.97        34\n",
            "           8       1.00      0.97      0.98        30\n",
            "           9       0.95      0.95      0.95        40\n",
            "\n",
            "    accuracy                           0.99       360\n",
            "   macro avg       0.99      0.99      0.99       360\n",
            "weighted avg       0.99      0.99      0.99       360\n",
            "\n",
            "--------------------------------------------------------------------------------------------------------------------------------------------------------------------------------------------------------\n",
            "\n",
            "SGD Classifier 모델 성능:\n",
            "전체 테스트 데이터 수: 360\n",
            "맞은 개수: 342\n",
            "틀린 개수: 18\n",
            "정확도: 0.9500\n",
            "\n",
            "Detailed Performance:\n",
            "              precision    recall  f1-score   support\n",
            "\n",
            "           0       1.00      0.97      0.98        33\n",
            "           1       0.85      1.00      0.92        28\n",
            "           2       0.97      1.00      0.99        33\n",
            "           3       1.00      0.97      0.99        34\n",
            "           4       0.96      0.96      0.96        46\n",
            "           5       0.93      0.91      0.92        47\n",
            "           6       0.92      0.97      0.94        35\n",
            "           7       1.00      0.97      0.99        34\n",
            "           8       0.93      0.83      0.88        30\n",
            "           9       0.95      0.93      0.94        40\n",
            "\n",
            "    accuracy                           0.95       360\n",
            "   macro avg       0.95      0.95      0.95       360\n",
            "weighted avg       0.95      0.95      0.95       360\n",
            "\n",
            "--------------------------------------------------------------------------------------------------------------------------------------------------------------------------------------------------------\n",
            "\n",
            "Logistic Regression 모델 성능:\n",
            "전체 테스트 데이터 수: 360\n",
            "맞은 개수: 351\n",
            "틀린 개수: 9\n",
            "정확도: 0.9750\n",
            "\n",
            "Detailed Performance:\n",
            "              precision    recall  f1-score   support\n",
            "\n",
            "           0       1.00      1.00      1.00        33\n",
            "           1       0.97      1.00      0.98        28\n",
            "           2       1.00      1.00      1.00        33\n",
            "           3       0.97      0.97      0.97        34\n",
            "           4       1.00      0.98      0.99        46\n",
            "           5       0.92      0.96      0.94        47\n",
            "           6       0.97      0.97      0.97        35\n",
            "           7       1.00      0.97      0.99        34\n",
            "           8       0.97      0.97      0.97        30\n",
            "           9       0.97      0.95      0.96        40\n",
            "\n",
            "    accuracy                           0.97       360\n",
            "   macro avg       0.98      0.98      0.98       360\n",
            "weighted avg       0.98      0.97      0.98       360\n",
            "\n"
          ]
        }
      ]
    }
  ]
}