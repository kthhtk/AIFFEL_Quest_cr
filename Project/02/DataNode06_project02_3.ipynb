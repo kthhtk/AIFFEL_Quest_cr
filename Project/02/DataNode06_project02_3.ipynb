{
  "nbformat": 4,
  "nbformat_minor": 0,
  "metadata": {
    "colab": {
      "provenance": [],
      "authorship_tag": "ABX9TyMkf4IK7QAYwKDolelLWg1b",
      "include_colab_link": true
    },
    "kernelspec": {
      "name": "python3",
      "display_name": "Python 3"
    },
    "language_info": {
      "name": "python"
    }
  },
  "cells": [
    {
      "cell_type": "markdown",
      "metadata": {
        "id": "view-in-github",
        "colab_type": "text"
      },
      "source": [
        "<a href=\"https://colab.research.google.com/github/kthhtk/AIFFEL_Quest_cr/blob/master/Project/02/DataNode06_project02_3.ipynb\" target=\"_parent\"><img src=\"https://colab.research.google.com/assets/colab-badge.svg\" alt=\"Open In Colab\"/></a>"
      ]
    },
    {
      "cell_type": "code",
      "execution_count": 2,
      "metadata": {
        "colab": {
          "base_uri": "https://localhost:8080/"
        },
        "id": "xQx2ksJTRFv2",
        "outputId": "971caf30-97f8-4949-cd8a-12af7e2c71b0"
      },
      "outputs": [
        {
          "output_type": "stream",
          "name": "stdout",
          "text": [
            "1.5.2\n"
          ]
        }
      ],
      "source": [
        "import sklearn\n",
        "\n",
        "print(sklearn.__version__)"
      ]
    },
    {
      "cell_type": "code",
      "source": [
        "# 1. 필요한 모듈 import 하기\n",
        "from sklearn.datasets import load_breast_cancer\n",
        "from sklearn.model_selection import train_test_split\n",
        "from sklearn.metrics import classification_report\n",
        "\n",
        "from sklearn.tree import DecisionTreeClassifier\n",
        "from sklearn.ensemble import RandomForestClassifier\n",
        "from sklearn.svm import SVC\n",
        "from sklearn.linear_model import SGDClassifier, LogisticRegression\n",
        "from sklearn.metrics import accuracy_score\n",
        "\n",
        "import pandas as pd\n"
      ],
      "metadata": {
        "id": "BMyW4ps5RZUG"
      },
      "execution_count": 3,
      "outputs": []
    },
    {
      "cell_type": "code",
      "source": [
        "# 2. 데이터 준비\n",
        "cancer = load_breast_cancer()"
      ],
      "metadata": {
        "id": "xltTzH39RfkG"
      },
      "execution_count": 4,
      "outputs": []
    },
    {
      "cell_type": "code",
      "source": [
        "# 3. 데이터 이해하기\n",
        "\n",
        "# Feature Data 지정하기\n",
        "X = cancer.data\n",
        "\n",
        "# Laber Data 지정하기\n",
        "y = cancer.target\n",
        "\n",
        "# Target Names 출력해보기\n",
        "cancer.target_names\n",
        "\n",
        "# 데이터 Describe 해 보기\n",
        "df = pd.DataFrame(data=X, columns=cancer.feature_names)\n",
        "print(df.describe())\n"
      ],
      "metadata": {
        "colab": {
          "base_uri": "https://localhost:8080/"
        },
        "id": "oy3Vxx3eRe91",
        "outputId": "d36cf94e-b24c-4b98-ea27-d9e9cb31eec2"
      },
      "execution_count": 5,
      "outputs": [
        {
          "output_type": "stream",
          "name": "stdout",
          "text": [
            "       mean radius  mean texture  mean perimeter    mean area  \\\n",
            "count   569.000000    569.000000      569.000000   569.000000   \n",
            "mean     14.127292     19.289649       91.969033   654.889104   \n",
            "std       3.524049      4.301036       24.298981   351.914129   \n",
            "min       6.981000      9.710000       43.790000   143.500000   \n",
            "25%      11.700000     16.170000       75.170000   420.300000   \n",
            "50%      13.370000     18.840000       86.240000   551.100000   \n",
            "75%      15.780000     21.800000      104.100000   782.700000   \n",
            "max      28.110000     39.280000      188.500000  2501.000000   \n",
            "\n",
            "       mean smoothness  mean compactness  mean concavity  mean concave points  \\\n",
            "count       569.000000        569.000000      569.000000           569.000000   \n",
            "mean          0.096360          0.104341        0.088799             0.048919   \n",
            "std           0.014064          0.052813        0.079720             0.038803   \n",
            "min           0.052630          0.019380        0.000000             0.000000   \n",
            "25%           0.086370          0.064920        0.029560             0.020310   \n",
            "50%           0.095870          0.092630        0.061540             0.033500   \n",
            "75%           0.105300          0.130400        0.130700             0.074000   \n",
            "max           0.163400          0.345400        0.426800             0.201200   \n",
            "\n",
            "       mean symmetry  mean fractal dimension  ...  worst radius  \\\n",
            "count     569.000000              569.000000  ...    569.000000   \n",
            "mean        0.181162                0.062798  ...     16.269190   \n",
            "std         0.027414                0.007060  ...      4.833242   \n",
            "min         0.106000                0.049960  ...      7.930000   \n",
            "25%         0.161900                0.057700  ...     13.010000   \n",
            "50%         0.179200                0.061540  ...     14.970000   \n",
            "75%         0.195700                0.066120  ...     18.790000   \n",
            "max         0.304000                0.097440  ...     36.040000   \n",
            "\n",
            "       worst texture  worst perimeter   worst area  worst smoothness  \\\n",
            "count     569.000000       569.000000   569.000000        569.000000   \n",
            "mean       25.677223       107.261213   880.583128          0.132369   \n",
            "std         6.146258        33.602542   569.356993          0.022832   \n",
            "min        12.020000        50.410000   185.200000          0.071170   \n",
            "25%        21.080000        84.110000   515.300000          0.116600   \n",
            "50%        25.410000        97.660000   686.500000          0.131300   \n",
            "75%        29.720000       125.400000  1084.000000          0.146000   \n",
            "max        49.540000       251.200000  4254.000000          0.222600   \n",
            "\n",
            "       worst compactness  worst concavity  worst concave points  \\\n",
            "count         569.000000       569.000000            569.000000   \n",
            "mean            0.254265         0.272188              0.114606   \n",
            "std             0.157336         0.208624              0.065732   \n",
            "min             0.027290         0.000000              0.000000   \n",
            "25%             0.147200         0.114500              0.064930   \n",
            "50%             0.211900         0.226700              0.099930   \n",
            "75%             0.339100         0.382900              0.161400   \n",
            "max             1.058000         1.252000              0.291000   \n",
            "\n",
            "       worst symmetry  worst fractal dimension  \n",
            "count      569.000000               569.000000  \n",
            "mean         0.290076                 0.083946  \n",
            "std          0.061867                 0.018061  \n",
            "min          0.156500                 0.055040  \n",
            "25%          0.250400                 0.071460  \n",
            "50%          0.282200                 0.080040  \n",
            "75%          0.317900                 0.092080  \n",
            "max          0.663800                 0.207500  \n",
            "\n",
            "[8 rows x 30 columns]\n"
          ]
        }
      ]
    },
    {
      "cell_type": "code",
      "source": [
        "# 4. train, test 데이터 분리 (테스트20%)\n",
        "X_train, X_test, y_train, y_test = train_test_split(X, y, test_size=0.2, random_state=42)\n"
      ],
      "metadata": {
        "id": "_kfKy9sJRe54"
      },
      "execution_count": 6,
      "outputs": []
    },
    {
      "cell_type": "code",
      "source": [
        "# 5. 다양한 모델로 학습시켜보기\n",
        "models = {\n",
        "    'Decision Tree': DecisionTreeClassifier(random_state=42),\n",
        "    'Random Forest': RandomForestClassifier(random_state=42),\n",
        "    'SVM': SVC(random_state=42),\n",
        "    'SGD Classifier': SGDClassifier(max_iter=1000, random_state=42),\n",
        "    'Logistic Regression': LogisticRegression(max_iter=5000, random_state=42)\n",
        "}\n",
        "\n",
        "#  각 모델 학습\n",
        "accuracy_dict = {}\n",
        "\n",
        "for name, model in models.items():\n",
        "    # 모델 학습\n",
        "    model.fit(X_train, y_train)\n",
        "    y_pred = model.predict(X_test)\n",
        "\n",
        "    # 정확도 계산\n",
        "    accuracy = accuracy_score(y_test, y_pred)\n",
        "    accuracy_dict[name] = accuracy\n",
        "\n",
        "    print(\"-\" * 100)\n",
        "    print(f\"\\n{name} 모델 성능:\")\n",
        "    print(f\"전체 테스트 데이터 수: {len(y_test)}\")\n",
        "    print(f\"맞은 개수: {(y_test == y_pred).sum()}\")\n",
        "    print(f\"틀린 개수: {(y_test != y_pred).sum()}\")\n",
        "    print(f\"정확도: {accuracy:.4f}\")\n",
        "\n",
        "    print(\"\\n상세 성능 보고서:\")\n",
        "    # zero_division 매개변수 추가\n",
        "    print(classification_report(y_test, y_pred, zero_division=1))\n",
        "\n",
        "# 가장 좋은 모델 출력\n",
        "best_model = max(accuracy_dict.items(), key=lambda x: x[1])\n",
        "print(\"-\" * 100)\n",
        "print(\"-\" * 100)\n",
        "print(\"\\n최고 성능 모델:\", best_model[0], f\"(정확도: {best_model[1]:.4f})\")\n",
        "print(\"-\" * 100)\n",
        "print(\"-\" * 100)\n",
        "# 6. 모델을 평가해보기\n",
        "\n",
        "_=\"\"\"\n",
        "classification_report 지표를 사용하여 모델을 평가하였다.\n",
        " (정밀,재현,f1 등 여러 지표를 한번에 확인 가능하며 각 클래스별, 전체평균 성능 확인 가능)\n",
        "\n",
        " Random Forest 모델이 정확도 96.49% 로 가장 뛰어났다.\n",
        "\n",
        "False Negative (악성을 양성으로 잘못 예측): 매우 위험\n",
        " False Positive (양성을 악성으로 잘못 예측): 상대적으로 덜 위험\n",
        "\n",
        " 그래서 실제 악성 종양 중에서 악성으로 올바르게 예측한 비율인 recall 수치가 가장 중요한데,\n",
        " 그 수치는 Random Forest 모델이 가장 높게 나온다 (0= 0.93) 그리고 그외의 지표도 타 모델에 비해 높다.\n",
        "\n",
        " 그래서 Random Forest 모델을 선택하겠다.\n",
        "\n",
        "\n",
        "\"\"\"\n",
        "\n"
      ],
      "metadata": {
        "colab": {
          "base_uri": "https://localhost:8080/"
        },
        "id": "TB7wTY8xbAhP",
        "outputId": "351a9a25-fc64-4ac4-d25c-bf4fe83b5e66"
      },
      "execution_count": 18,
      "outputs": [
        {
          "output_type": "stream",
          "name": "stdout",
          "text": [
            "----------------------------------------------------------------------------------------------------\n",
            "\n",
            "Decision Tree 모델 성능:\n",
            "전체 테스트 데이터 수: 114\n",
            "맞은 개수: 108\n",
            "틀린 개수: 6\n",
            "정확도: 0.9474\n",
            "\n",
            "상세 성능 보고서:\n",
            "              precision    recall  f1-score   support\n",
            "\n",
            "           0       0.93      0.93      0.93        43\n",
            "           1       0.96      0.96      0.96        71\n",
            "\n",
            "    accuracy                           0.95       114\n",
            "   macro avg       0.94      0.94      0.94       114\n",
            "weighted avg       0.95      0.95      0.95       114\n",
            "\n",
            "----------------------------------------------------------------------------------------------------\n",
            "\n",
            "Random Forest 모델 성능:\n",
            "전체 테스트 데이터 수: 114\n",
            "맞은 개수: 110\n",
            "틀린 개수: 4\n",
            "정확도: 0.9649\n",
            "\n",
            "상세 성능 보고서:\n",
            "              precision    recall  f1-score   support\n",
            "\n",
            "           0       0.98      0.93      0.95        43\n",
            "           1       0.96      0.99      0.97        71\n",
            "\n",
            "    accuracy                           0.96       114\n",
            "   macro avg       0.97      0.96      0.96       114\n",
            "weighted avg       0.97      0.96      0.96       114\n",
            "\n",
            "----------------------------------------------------------------------------------------------------\n",
            "\n",
            "SVM 모델 성능:\n",
            "전체 테스트 데이터 수: 114\n",
            "맞은 개수: 108\n",
            "틀린 개수: 6\n",
            "정확도: 0.9474\n",
            "\n",
            "상세 성능 보고서:\n",
            "              precision    recall  f1-score   support\n",
            "\n",
            "           0       1.00      0.86      0.93        43\n",
            "           1       0.92      1.00      0.96        71\n",
            "\n",
            "    accuracy                           0.95       114\n",
            "   macro avg       0.96      0.93      0.94       114\n",
            "weighted avg       0.95      0.95      0.95       114\n",
            "\n",
            "----------------------------------------------------------------------------------------------------\n",
            "\n",
            "SGD Classifier 모델 성능:\n",
            "전체 테스트 데이터 수: 114\n",
            "맞은 개수: 103\n",
            "틀린 개수: 11\n",
            "정확도: 0.9035\n",
            "\n",
            "상세 성능 보고서:\n",
            "              precision    recall  f1-score   support\n",
            "\n",
            "           0       1.00      0.74      0.85        43\n",
            "           1       0.87      1.00      0.93        71\n",
            "\n",
            "    accuracy                           0.90       114\n",
            "   macro avg       0.93      0.87      0.89       114\n",
            "weighted avg       0.92      0.90      0.90       114\n",
            "\n",
            "----------------------------------------------------------------------------------------------------\n",
            "\n",
            "Logistic Regression 모델 성능:\n",
            "전체 테스트 데이터 수: 114\n",
            "맞은 개수: 109\n",
            "틀린 개수: 5\n",
            "정확도: 0.9561\n",
            "\n",
            "상세 성능 보고서:\n",
            "              precision    recall  f1-score   support\n",
            "\n",
            "           0       0.97      0.91      0.94        43\n",
            "           1       0.95      0.99      0.97        71\n",
            "\n",
            "    accuracy                           0.96       114\n",
            "   macro avg       0.96      0.95      0.95       114\n",
            "weighted avg       0.96      0.96      0.96       114\n",
            "\n",
            "----------------------------------------------------------------------------------------------------\n",
            "----------------------------------------------------------------------------------------------------\n",
            "\n",
            "최고 성능 모델: Random Forest (정확도: 0.9649)\n",
            "----------------------------------------------------------------------------------------------------\n",
            "----------------------------------------------------------------------------------------------------\n"
          ]
        }
      ]
    },
    {
      "cell_type": "code",
      "source": [
        "# 0 = 악성, 1 = 양성\n",
        "print(\"클래스 종류:\", cancer.target_names)\n"
      ],
      "metadata": {
        "colab": {
          "base_uri": "https://localhost:8080/"
        },
        "id": "7IFAgSVp8z7N",
        "outputId": "40af1b79-8cf4-486a-f9f0-ca9c6cad0d0c"
      },
      "execution_count": 8,
      "outputs": [
        {
          "output_type": "stream",
          "name": "stdout",
          "text": [
            "클래스 종류: ['malignant' 'benign']\n"
          ]
        }
      ]
    }
  ]
}