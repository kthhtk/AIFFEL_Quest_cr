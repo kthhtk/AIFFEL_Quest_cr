{
 "cells": [
  {
   "cell_type": "code",
   "execution_count": null,
   "id": "dfc7a691",
   "metadata": {},
   "outputs": [],
   "source": [
    "# 1. 데이터셋 준비"
   ]
  },
  {
   "cell_type": "code",
   "execution_count": 1,
   "id": "84fc2006",
   "metadata": {},
   "outputs": [
    {
     "name": "stdout",
     "output_type": "stream",
     "text": [
      "클래스 종류: ['dandelion', 'daisy', 'tulips', 'sunflowers', 'roses'] (총 5개)\n"
     ]
    }
   ],
   "source": [
    "import tensorflow as tf\n",
    "import tensorflow_datasets as tfds\n",
    "import matplotlib.pyplot as plt\n",
    "\n",
    "# 데이터셋 로드\n",
    "(raw_train, raw_validation, raw_test), metadata = tfds.load(\n",
    "    'tf_flowers',\n",
    "    split=['train[:80%]', 'train[80%:90%]', 'train[90%:]'],\n",
    "    with_info=True,\n",
    "    as_supervised=True\n",
    ")\n",
    "\n",
    "# 클래스 정보 확인\n",
    "class_names = metadata.features['label'].names\n",
    "print(f\"클래스 종류: {class_names} (총 {len(class_names)}개)\")\n"
   ]
  },
  {
   "cell_type": "code",
   "execution_count": null,
   "id": "d834bd4e",
   "metadata": {},
   "outputs": [],
   "source": [
    "# 2. 데이터 전처리 파이프라인"
   ]
  },
  {
   "cell_type": "code",
   "execution_count": 2,
   "id": "e9300ffd",
   "metadata": {},
   "outputs": [],
   "source": [
    "# 이미지 표준화 (224x224 크기 조정)\n",
    "IMG_SIZE = 224\n",
    "BATCH_SIZE = 32\n",
    "\n",
    "def format_image(image, label):\n",
    "    image = tf.image.resize(image, (IMG_SIZE, IMG_SIZE))\n",
    "    image = tf.cast(image, tf.float32) / 255.0\n",
    "    return image, label\n",
    "\n",
    "# 데이터 증강 레이어\n",
    "augmentation_layers = tf.keras.Sequential([\n",
    "    tf.keras.layers.RandomFlip(\"horizontal\"),\n",
    "    tf.keras.layers.RandomRotation(0.2),\n",
    "    tf.keras.layers.RandomZoom(0.1)\n",
    "])\n",
    "\n",
    "# 데이터 파이프라인 구성\n",
    "train_batches = raw_train.map(format_image).cache().shuffle(1000)\n",
    "train_batches = train_batches.map(lambda x,y: (augmentation_layers(x), y))\n",
    "train_batches = train_batches.batch(BATCH_SIZE).prefetch(1)\n",
    "\n",
    "val_batches = raw_validation.map(format_image).batch(BATCH_SIZE).prefetch(1)\n",
    "test_batches = raw_test.map(format_image).batch(BATCH_SIZE).prefetch(1)\n"
   ]
  },
  {
   "cell_type": "code",
   "execution_count": null,
   "id": "15640f5b",
   "metadata": {},
   "outputs": [],
   "source": [
    "# 3. 전이 학습 모델 설계 (MobileNetV2 기반)"
   ]
  },
  {
   "cell_type": "code",
   "execution_count": 3,
   "id": "3689e997",
   "metadata": {},
   "outputs": [
    {
     "name": "stdout",
     "output_type": "stream",
     "text": [
      "Downloading data from https://storage.googleapis.com/tensorflow/keras-applications/mobilenet_v2/mobilenet_v2_weights_tf_dim_ordering_tf_kernels_1.0_224_no_top.h5\n",
      "9412608/9406464 [==============================] - 0s 0us/step\n",
      "9420800/9406464 [==============================] - 0s 0us/step\n"
     ]
    }
   ],
   "source": [
    "# 기본 모델 구성\n",
    "base_model = tf.keras.applications.MobileNetV2(\n",
    "    input_shape=(IMG_SIZE, IMG_SIZE, 3),\n",
    "    include_top=False,\n",
    "    weights='imagenet'\n",
    ")\n",
    "base_model.trainable = False  # 기본 모델 가중치 고정\n",
    "\n",
    "# 분류 헤드 추가\n",
    "model = tf.keras.Sequential([\n",
    "    base_model,\n",
    "    tf.keras.layers.GlobalAveragePooling2D(),\n",
    "    tf.keras.layers.Dropout(0.2),\n",
    "    tf.keras.layers.Dense(128, activation='relu'),\n",
    "    tf.keras.layers.Dense(5, activation='softmax')\n",
    "])\n",
    "\n",
    "# 모델 컴파일\n",
    "model.compile(\n",
    "    optimizer=tf.keras.optimizers.Adam(learning_rate=0.0001),\n",
    "    loss='sparse_categorical_crossentropy',\n",
    "    metrics=['accuracy']\n",
    ")\n"
   ]
  },
  {
   "cell_type": "code",
   "execution_count": null,
   "id": "31e97ff1",
   "metadata": {},
   "outputs": [],
   "source": [
    "# 4. 모델 학습 및 성능 평가"
   ]
  },
  {
   "cell_type": "code",
   "execution_count": 4,
   "id": "0a9880c2",
   "metadata": {},
   "outputs": [
    {
     "name": "stdout",
     "output_type": "stream",
     "text": [
      "Epoch 1/10\n",
      "92/92 [==============================] - 38s 334ms/step - loss: 1.2273 - accuracy: 0.5109 - val_loss: 0.7810 - val_accuracy: 0.7384\n",
      "Epoch 2/10\n",
      "92/92 [==============================] - 28s 304ms/step - loss: 0.7263 - accuracy: 0.7347 - val_loss: 0.5711 - val_accuracy: 0.8093\n",
      "Epoch 3/10\n",
      "92/92 [==============================] - 28s 305ms/step - loss: 0.5782 - accuracy: 0.7813 - val_loss: 0.4885 - val_accuracy: 0.8420\n",
      "Epoch 4/10\n",
      "92/92 [==============================] - 28s 305ms/step - loss: 0.5154 - accuracy: 0.8151 - val_loss: 0.4568 - val_accuracy: 0.8420\n",
      "Epoch 5/10\n",
      "92/92 [==============================] - 28s 304ms/step - loss: 0.4702 - accuracy: 0.8355 - val_loss: 0.4267 - val_accuracy: 0.8474\n",
      "Epoch 6/10\n",
      "92/92 [==============================] - 28s 304ms/step - loss: 0.4428 - accuracy: 0.8365 - val_loss: 0.4148 - val_accuracy: 0.8583\n",
      "Epoch 7/10\n",
      "92/92 [==============================] - 28s 305ms/step - loss: 0.4167 - accuracy: 0.8481 - val_loss: 0.4058 - val_accuracy: 0.8665\n",
      "Epoch 8/10\n",
      "92/92 [==============================] - 28s 304ms/step - loss: 0.3952 - accuracy: 0.8515 - val_loss: 0.4035 - val_accuracy: 0.8665\n",
      "Epoch 9/10\n",
      "92/92 [==============================] - 28s 308ms/step - loss: 0.3937 - accuracy: 0.8610 - val_loss: 0.3891 - val_accuracy: 0.8828\n",
      "Epoch 10/10\n",
      "92/92 [==============================] - 28s 305ms/step - loss: 0.3701 - accuracy: 0.8651 - val_loss: 0.3763 - val_accuracy: 0.8910\n",
      "12/12 [==============================] - 1s 40ms/step - loss: 0.3235 - accuracy: 0.8856\n",
      "\n",
      "Test Accuracy: 88.56%\n"
     ]
    }
   ],
   "source": [
    "# 학습 실행 (10 에포크)\n",
    "history = model.fit(\n",
    "    train_batches,\n",
    "    validation_data=val_batches,\n",
    "    epochs=10\n",
    ")\n",
    "\n",
    "# 성능 평가\n",
    "test_loss, test_acc = model.evaluate(test_batches)\n",
    "print(f\"\\nTest Accuracy: {test_acc*100:.2f}%\")\n"
   ]
  },
  {
   "cell_type": "code",
   "execution_count": null,
   "id": "63493dfe",
   "metadata": {},
   "outputs": [],
   "source": [
    "# 성능 시각화"
   ]
  },
  {
   "cell_type": "code",
   "execution_count": 5,
   "id": "aa8ca261",
   "metadata": {},
   "outputs": [
    {
     "data": {
      "image/png": "[encoded data removed]",
      "text/plain": [
       "<Figure size 864x288 with 2 Axes>"
      ]
     },
     "metadata": {
      "needs_background": "light"
     },
     "output_type": "display_data"
    }
   ],
   "source": [
    "# 정확도/손실 곡선\n",
    "plt.figure(figsize=(12,4))\n",
    "plt.subplot(1,2,1)\n",
    "plt.plot(history.history['accuracy'], label='Train Accuracy')\n",
    "plt.plot(history.history['val_accuracy'], label='Val Accuracy')\n",
    "plt.title('Accuracy Curves')\n",
    "plt.legend()\n",
    "\n",
    "plt.subplot(1,2,2)\n",
    "plt.plot(history.history['loss'], label='Train Loss')\n",
    "plt.plot(history.history['val_loss'], label='Val Loss')\n",
    "plt.title('Loss Curves')\n",
    "plt.legend()\n",
    "plt.show()\n"
   ]
  },
  {
   "cell_type": "code",
   "execution_count": null,
   "id": "372a76db",
   "metadata": {},
   "outputs": [],
   "source": []
  }
 ],
 "metadata": {
  "kernelspec": {
   "display_name": "Python 3 (ipykernel)",
   "language": "python",
   "name": "python3"
  },
  "language_info": {
   "codemirror_mode": {
    "name": "ipython",
    "version": 3
   },
   "file_extension": ".py",
   "mimetype": "text/x-python",
   "name": "python",
   "nbconvert_exporter": "python",
   "pygments_lexer": "ipython3",
   "version": "3.9.7"
  }
 },
 "nbformat": 4,
 "nbformat_minor": 5
}
