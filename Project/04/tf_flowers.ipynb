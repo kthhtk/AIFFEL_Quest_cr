{
 "cells": [
  {
   "cell_type": "code",
   "execution_count": null,
   "id": "60f59d60",
   "metadata": {},
   "outputs": [],
   "source": [
    "# 1. 데이터셋 준비"
   ]
  },
  {
   "cell_type": "code",
   "execution_count": 1,
   "id": "d5a0a48c",
   "metadata": {},
   "outputs": [
    {
     "name": "stdout",
     "output_type": "stream",
     "text": [
      "클래스 종류: ['dandelion', 'daisy', 'tulips', 'sunflowers', 'roses'] (총 5개)\n"
     ]
    }
   ],
   "source": [
    "import tensorflow as tf\n",
    "import tensorflow_datasets as tfds\n",
    "import matplotlib.pyplot as plt\n",
    "\n",
    "# 데이터셋 로드\n",
    "(raw_train, raw_validation, raw_test), metadata = tfds.load(\n",
    "    'tf_flowers',\n",
    "    split=['train[:80%]', 'train[80%:90%]', 'train[90%:]'],\n",
    "    with_info=True,\n",
    "    as_supervised=True\n",
    ")\n",
    "\n",
    "# 클래스 정보 확인\n",
    "class_names = metadata.features['label'].names\n",
    "print(f\"클래스 종류: {class_names} (총 {len(class_names)}개)\")\n"
   ]
  },
  {
   "cell_type": "code",
   "execution_count": null,
   "id": "4c712370",
   "metadata": {},
   "outputs": [],
   "source": [
    "# 2. 데이터 전처리 파이프라인"
   ]
  },
  {
   "cell_type": "code",
   "execution_count": 2,
   "id": "8f28c01c",
   "metadata": {},
   "outputs": [],
   "source": [
    "# 이미지 표준화 (224x224 크기 조정)\n",
    "IMG_SIZE = 224\n",
    "BATCH_SIZE = 32\n",
    "\n",
    "def format_image(image, label):\n",
    "    image = tf.image.resize(image, (IMG_SIZE, IMG_SIZE))\n",
    "    image = tf.cast(image, tf.float32) / 255.0\n",
    "    return image, label\n",
    "\n",
    "# 데이터 증강 레이어\n",
    "augmentation_layers = tf.keras.Sequential([\n",
    "    tf.keras.layers.RandomFlip(\"horizontal\"),\n",
    "    tf.keras.layers.RandomRotation(0.2),\n",
    "    tf.keras.layers.RandomZoom(0.1)\n",
    "])\n",
    "\n",
    "# 데이터 파이프라인 구성\n",
    "train_batches = raw_train.map(format_image).cache().shuffle(1000)\n",
    "train_batches = train_batches.map(lambda x,y: (augmentation_layers(x), y))\n",
    "train_batches = train_batches.batch(BATCH_SIZE).prefetch(1)\n",
    "\n",
    "val_batches = raw_validation.map(format_image).batch(BATCH_SIZE).prefetch(1)\n",
    "test_batches = raw_test.map(format_image).batch(BATCH_SIZE).prefetch(1)\n"
   ]
  },
  {
   "cell_type": "code",
   "execution_count": null,
   "id": "6f4cb005",
   "metadata": {},
   "outputs": [],
   "source": [
    "# 3. 전이 학습 모델 설계 (MobileNetV2 기반)"
   ]
  },
  {
   "cell_type": "code",
   "execution_count": 3,
   "id": "69606c72",
   "metadata": {},
   "outputs": [
    {
     "name": "stdout",
     "output_type": "stream",
     "text": [
      "Downloading data from https://storage.googleapis.com/tensorflow/keras-applications/mobilenet_v2/mobilenet_v2_weights_tf_dim_ordering_tf_kernels_1.0_224_no_top.h5\n",
      "9412608/9406464 [==============================] - 0s 0us/step\n",
      "9420800/9406464 [==============================] - 0s 0us/step\n"
     ]
    }
   ],
   "source": [
    "# 기본 모델 구성\n",
    "base_model = tf.keras.applications.MobileNetV2(\n",
    "    input_shape=(IMG_SIZE, IMG_SIZE, 3),\n",
    "    include_top=False,\n",
    "    weights='imagenet'\n",
    ")\n",
    "base_model.trainable = False  # 기본 모델 가중치 고정\n",
    "\n",
    "# 분류 헤드 추가\n",
    "model = tf.keras.Sequential([\n",
    "    base_model,\n",
    "    tf.keras.layers.GlobalAveragePooling2D(),\n",
    "    tf.keras.layers.Dropout(0.2),\n",
    "    tf.keras.layers.Dense(128, activation='relu'),\n",
    "    tf.keras.layers.Dense(5, activation='softmax')\n",
    "])\n",
    "\n",
    "# 모델 컴파일\n",
    "model.compile(\n",
    "    optimizer=tf.keras.optimizers.Adam(learning_rate=0.0001),\n",
    "    loss='sparse_categorical_crossentropy',\n",
    "    metrics=['accuracy']\n",
    ")\n"
   ]
  },
  {
   "cell_type": "code",
   "execution_count": null,
   "id": "dfa99fa9",
   "metadata": {},
   "outputs": [],
   "source": [
    "# 4. 모델 학습 및 성능 평가"
   ]
  },
  {
   "cell_type": "code",
   "execution_count": 4,
   "id": "a2df5c99",
   "metadata": {},
   "outputs": [
    {
     "name": "stdout",
     "output_type": "stream",
     "text": [
      "Epoch 1/10\n",
      "92/92 [==============================] - 38s 334ms/step - loss: 1.2273 - accuracy: 0.5109 - val_loss: 0.7810 - val_accuracy: 0.7384\n",
      "Epoch 2/10\n",
      "92/92 [==============================] - 28s 304ms/step - loss: 0.7263 - accuracy: 0.7347 - val_loss: 0.5711 - val_accuracy: 0.8093\n",
      "Epoch 3/10\n",
      "92/92 [==============================] - 28s 305ms/step - loss: 0.5782 - accuracy: 0.7813 - val_loss: 0.4885 - val_accuracy: 0.8420\n",
      "Epoch 4/10\n",
      "92/92 [==============================] - 28s 305ms/step - loss: 0.5154 - accuracy: 0.8151 - val_loss: 0.4568 - val_accuracy: 0.8420\n",
      "Epoch 5/10\n",
      "92/92 [==============================] - 28s 304ms/step - loss: 0.4702 - accuracy: 0.8355 - val_loss: 0.4267 - val_accuracy: 0.8474\n",
      "Epoch 6/10\n",
      "92/92 [==============================] - 28s 304ms/step - loss: 0.4428 - accuracy: 0.8365 - val_loss: 0.4148 - val_accuracy: 0.8583\n",
      "Epoch 7/10\n",
      "92/92 [==============================] - 28s 305ms/step - loss: 0.4167 - accuracy: 0.8481 - val_loss: 0.4058 - val_accuracy: 0.8665\n",
      "Epoch 8/10\n",
      "92/92 [==============================] - 28s 304ms/step - loss: 0.3952 - accuracy: 0.8515 - val_loss: 0.4035 - val_accuracy: 0.8665\n",
      "Epoch 9/10\n",
      "92/92 [==============================] - 28s 308ms/step - loss: 0.3937 - accuracy: 0.8610 - val_loss: 0.3891 - val_accuracy: 0.8828\n",
      "Epoch 10/10\n",
      "92/92 [==============================] - 28s 305ms/step - loss: 0.3701 - accuracy: 0.8651 - val_loss: 0.3763 - val_accuracy: 0.8910\n",
      "12/12 [==============================] - 1s 40ms/step - loss: 0.3235 - accuracy: 0.8856\n",
      "\n",
      "Test Accuracy: 88.56%\n"
     ]
    }
   ],
   "source": [
    "# 학습 실행 (10 에포크)\n",
    "history = model.fit(\n",
    "    train_batches,\n",
    "    validation_data=val_batches,\n",
    "    epochs=10\n",
    ")\n",
    "\n",
    "# 성능 평가\n",
    "test_loss, test_acc = model.evaluate(test_batches)\n",
    "print(f\"\\nTest Accuracy: {test_acc*100:.2f}%\")\n"
   ]
  },
  {
   "cell_type": "code",
   "execution_count": null,
   "id": "ed2b48b1",
   "metadata": {},
   "outputs": [],
   "source": [
    "# 성능 시각화"
   ]
  },
  {
   "cell_type": "code",
   "execution_count": 5,
   "id": "fce4f969",
   "metadata": {},
   "outputs": [
    {
     "data": {
      "image/png": "[encoded data removed]",
      "text/plain": [
       "<Figure size 864x288 with 2 Axes>"
      ]
     },
     "metadata": {
      "needs_background": "light"
     },
     "output_type": "display_data"
    }
   ],
   "source": [
    "# 정확도/손실 곡선\n",
    "plt.figure(figsize=(12,4))\n",
    "plt.subplot(1,2,1)\n",
    "plt.plot(history.history['accuracy'], label='Train Accuracy')\n",
    "plt.plot(history.history['val_accuracy'], label='Val Accuracy')\n",
    "plt.title('Accuracy Curves')\n",
    "plt.legend()\n",
    "\n",
    "plt.subplot(1,2,2)\n",
    "plt.plot(history.history['loss'], label='Train Loss')\n",
    "plt.plot(history.history['val_loss'], label='Val Loss')\n",
    "plt.title('Loss Curves')\n",
    "plt.legend()\n",
    "plt.show()\n"
   ]
  },
  {
   "cell_type": "code",
   "execution_count": 7,
   "id": "5607874f",
   "metadata": {},
   "outputs": [
    {
     "name": "stdout",
     "output_type": "stream",
     "text": [
      "Epoch 1/15\n",
      "92/92 [==============================] - 28s 308ms/step - loss: 0.3539 - accuracy: 0.8730 - val_loss: 0.3759 - val_accuracy: 0.8801\n",
      "Epoch 2/15\n",
      "92/92 [==============================] - 28s 305ms/step - loss: 0.3346 - accuracy: 0.8753 - val_loss: 0.3780 - val_accuracy: 0.8801\n",
      "Epoch 3/15\n",
      "92/92 [==============================] - 28s 308ms/step - loss: 0.3314 - accuracy: 0.8828 - val_loss: 0.3542 - val_accuracy: 0.8910\n",
      "Epoch 4/15\n",
      "92/92 [==============================] - 28s 305ms/step - loss: 0.3074 - accuracy: 0.8910 - val_loss: 0.3513 - val_accuracy: 0.8937\n",
      "Epoch 5/15\n",
      "92/92 [==============================] - 28s 306ms/step - loss: 0.3200 - accuracy: 0.8852 - val_loss: 0.3675 - val_accuracy: 0.8747\n",
      "Epoch 6/15\n",
      "92/92 [==============================] - 28s 306ms/step - loss: 0.3100 - accuracy: 0.8879 - val_loss: 0.3621 - val_accuracy: 0.8856\n",
      "Epoch 7/15\n",
      "92/92 [==============================] - 28s 306ms/step - loss: 0.3070 - accuracy: 0.8879 - val_loss: 0.3438 - val_accuracy: 0.9046\n",
      "Epoch 8/15\n",
      "92/92 [==============================] - 28s 306ms/step - loss: 0.2929 - accuracy: 0.8968 - val_loss: 0.3420 - val_accuracy: 0.8937\n",
      "Epoch 9/15\n",
      "92/92 [==============================] - 28s 305ms/step - loss: 0.2952 - accuracy: 0.8910 - val_loss: 0.3491 - val_accuracy: 0.8992\n",
      "Epoch 10/15\n",
      "92/92 [==============================] - 28s 307ms/step - loss: 0.2908 - accuracy: 0.8896 - val_loss: 0.3519 - val_accuracy: 0.8883\n",
      "Epoch 11/15\n",
      "92/92 [==============================] - 28s 309ms/step - loss: 0.2805 - accuracy: 0.8968 - val_loss: 0.3428 - val_accuracy: 0.8965\n",
      "Epoch 12/15\n",
      "92/92 [==============================] - 28s 305ms/step - loss: 0.2779 - accuracy: 0.8999 - val_loss: 0.3520 - val_accuracy: 0.8910\n",
      "Epoch 13/15\n",
      "92/92 [==============================] - 28s 306ms/step - loss: 0.2567 - accuracy: 0.9067 - val_loss: 0.3315 - val_accuracy: 0.9019\n",
      "Epoch 14/15\n",
      "92/92 [==============================] - 28s 306ms/step - loss: 0.2530 - accuracy: 0.9087 - val_loss: 0.3438 - val_accuracy: 0.9019\n",
      "Epoch 15/15\n",
      "92/92 [==============================] - 28s 305ms/step - loss: 0.2460 - accuracy: 0.9114 - val_loss: 0.3392 - val_accuracy: 0.8965\n",
      "12/12 [==============================] - 0s 33ms/step - loss: 0.2723 - accuracy: 0.9074\n",
      "\n",
      "Test Accuracy: 90.74%\n"
     ]
    }
   ],
   "source": [
    "# 학습 실행 (10 에포크)\n",
    "history = model.fit(\n",
    "    train_batches,\n",
    "    validation_data=val_batches,\n",
    "    epochs=15\n",
    ")\n",
    "\n",
    "# 성능 평가\n",
    "test_loss, test_acc = model.evaluate(test_batches)\n",
    "print(f\"\\nTest Accuracy: {test_acc*100:.2f}%\")\n"
   ]
  },
  {
   "cell_type": "code",
   "execution_count": 8,
   "id": "3fd1f10b",
   "metadata": {},
   "outputs": [
    {
     "data": {
      "image/png": "[encoded data removed]",
      "text/plain": [
       "<Figure size 864x288 with 2 Axes>"
      ]
     },
     "metadata": {
      "needs_background": "light"
     },
     "output_type": "display_data"
    }
   ],
   "source": [
    "# 정확도/손실 곡선\n",
    "plt.figure(figsize=(12,4))\n",
    "plt.subplot(1,2,1)\n",
    "plt.plot(history.history['accuracy'], label='Train Accuracy')\n",
    "plt.plot(history.history['val_accuracy'], label='Val Accuracy')\n",
    "plt.title('Accuracy Curves')\n",
    "plt.legend()\n",
    "\n",
    "plt.subplot(1,2,2)\n",
    "plt.plot(history.history['loss'], label='Train Loss')\n",
    "plt.plot(history.history['val_loss'], label='Val Loss')\n",
    "plt.title('Loss Curves')\n",
    "plt.legend()\n",
    "plt.show()\n"
   ]
  },
  {
   "cell_type": "code",
   "execution_count": 9,
   "id": "19f7c20a",
   "metadata": {},
   "outputs": [
    {
     "name": "stdout",
     "output_type": "stream",
     "text": [
      "Epoch 1/10\n",
      "92/92 [==============================] - 28s 306ms/step - loss: 0.2552 - accuracy: 0.9063 - val_loss: 0.3634 - val_accuracy: 0.8828\n",
      "Epoch 2/10\n",
      "92/92 [==============================] - 28s 305ms/step - loss: 0.2540 - accuracy: 0.9063 - val_loss: 0.3350 - val_accuracy: 0.9074\n",
      "Epoch 3/10\n",
      "92/92 [==============================] - 28s 306ms/step - loss: 0.2352 - accuracy: 0.9152 - val_loss: 0.3389 - val_accuracy: 0.9019\n",
      "Epoch 4/10\n",
      "92/92 [==============================] - 28s 306ms/step - loss: 0.2491 - accuracy: 0.9114 - val_loss: 0.3385 - val_accuracy: 0.9019\n",
      "Epoch 5/10\n",
      "92/92 [==============================] - 28s 304ms/step - loss: 0.2395 - accuracy: 0.9179 - val_loss: 0.3278 - val_accuracy: 0.9101\n",
      "Epoch 6/10\n",
      "92/92 [==============================] - 28s 304ms/step - loss: 0.2313 - accuracy: 0.9230 - val_loss: 0.3270 - val_accuracy: 0.9019\n",
      "Epoch 7/10\n",
      "92/92 [==============================] - 28s 304ms/step - loss: 0.2374 - accuracy: 0.9097 - val_loss: 0.3258 - val_accuracy: 0.9074\n",
      "Epoch 8/10\n",
      "92/92 [==============================] - 28s 303ms/step - loss: 0.2281 - accuracy: 0.9179 - val_loss: 0.3266 - val_accuracy: 0.9046\n",
      "Epoch 9/10\n",
      "92/92 [==============================] - 28s 303ms/step - loss: 0.2118 - accuracy: 0.9234 - val_loss: 0.3334 - val_accuracy: 0.9046\n",
      "Epoch 10/10\n",
      "92/92 [==============================] - 28s 304ms/step - loss: 0.2110 - accuracy: 0.9237 - val_loss: 0.3290 - val_accuracy: 0.9128\n",
      "12/12 [==============================] - 0s 33ms/step - loss: 0.2589 - accuracy: 0.9155\n",
      "\n",
      "Test Accuracy: 91.55%\n"
     ]
    }
   ],
   "source": [
    "# 학습 실행 (10 에포크)\n",
    "history = model.fit(\n",
    "    train_batches,\n",
    "    validation_data=val_batches,\n",
    "    epochs=10\n",
    ")\n",
    "\n",
    "# 성능 평가\n",
    "test_loss, test_acc = model.evaluate(test_batches)\n",
    "print(f\"\\nTest Accuracy: {test_acc*100:.2f}%\")\n"
   ]
  },
  {
   "cell_type": "code",
   "execution_count": 13,
   "id": "6e806a3b",
   "metadata": {},
   "outputs": [
    {
     "name": "stdout",
     "output_type": "stream",
     "text": [
      "Epoch 1/100\n",
      "92/92 [==============================] - 9s 58ms/step - loss: 1.1282 - accuracy: 0.5705 - val_loss: 0.7336 - val_accuracy: 0.7548\n",
      "Epoch 2/100\n",
      "92/92 [==============================] - 4s 43ms/step - loss: 0.6319 - accuracy: 0.7830 - val_loss: 0.5316 - val_accuracy: 0.8447\n",
      "Epoch 3/100\n",
      "92/92 [==============================] - 4s 43ms/step - loss: 0.4877 - accuracy: 0.8287 - val_loss: 0.4498 - val_accuracy: 0.8692\n",
      "Epoch 4/100\n",
      "92/92 [==============================] - 4s 43ms/step - loss: 0.4117 - accuracy: 0.8488 - val_loss: 0.3984 - val_accuracy: 0.8801\n",
      "Epoch 5/100\n",
      "92/92 [==============================] - 4s 42ms/step - loss: 0.3751 - accuracy: 0.8689 - val_loss: 0.3679 - val_accuracy: 0.8910\n",
      "Epoch 6/100\n",
      "92/92 [==============================] - 4s 43ms/step - loss: 0.3407 - accuracy: 0.8767 - val_loss: 0.3558 - val_accuracy: 0.8883\n",
      "Epoch 7/100\n",
      "92/92 [==============================] - 4s 43ms/step - loss: 0.3162 - accuracy: 0.8896 - val_loss: 0.3494 - val_accuracy: 0.8856\n",
      "Epoch 8/100\n",
      "92/92 [==============================] - 4s 42ms/step - loss: 0.2952 - accuracy: 0.8965 - val_loss: 0.3326 - val_accuracy: 0.8965\n",
      "Epoch 9/100\n",
      "92/92 [==============================] - 4s 42ms/step - loss: 0.2718 - accuracy: 0.9087 - val_loss: 0.3275 - val_accuracy: 0.9046\n",
      "Epoch 10/100\n",
      "92/92 [==============================] - 4s 43ms/step - loss: 0.2548 - accuracy: 0.9172 - val_loss: 0.3179 - val_accuracy: 0.9074\n",
      "Epoch 11/100\n",
      "92/92 [==============================] - 4s 43ms/step - loss: 0.2361 - accuracy: 0.9210 - val_loss: 0.3096 - val_accuracy: 0.9101\n",
      "Epoch 12/100\n",
      "92/92 [==============================] - 4s 43ms/step - loss: 0.2293 - accuracy: 0.9264 - val_loss: 0.3125 - val_accuracy: 0.9019\n",
      "Epoch 13/100\n",
      "92/92 [==============================] - 4s 43ms/step - loss: 0.2143 - accuracy: 0.9305 - val_loss: 0.3019 - val_accuracy: 0.9155\n",
      "Epoch 14/100\n",
      "92/92 [==============================] - 4s 43ms/step - loss: 0.2057 - accuracy: 0.9312 - val_loss: 0.3045 - val_accuracy: 0.9183\n",
      "Epoch 15/100\n",
      "92/92 [==============================] - 4s 43ms/step - loss: 0.1842 - accuracy: 0.9458 - val_loss: 0.2991 - val_accuracy: 0.9183\n",
      "Epoch 16/100\n",
      "92/92 [==============================] - 4s 43ms/step - loss: 0.1804 - accuracy: 0.9465 - val_loss: 0.2994 - val_accuracy: 0.9237\n",
      "Epoch 17/100\n",
      "92/92 [==============================] - 4s 43ms/step - loss: 0.1713 - accuracy: 0.9469 - val_loss: 0.3096 - val_accuracy: 0.9074\n",
      "Epoch 18/100\n",
      "92/92 [==============================] - 4s 43ms/step - loss: 0.1664 - accuracy: 0.9482 - val_loss: 0.3065 - val_accuracy: 0.9183\n",
      "✅ 최종 테스트 정확도: 91.01%\n"
     ]
    }
   ],
   "source": [
    "# 1. 메모리 완전 초기화 (필수!)\n",
    "from IPython import get_ipython\n",
    "get_ipython().magic('reset -sf')  # 모든 변수/모델 삭제\n",
    "\n",
    "# 2. 라이브러리 재로드\n",
    "import tensorflow as tf\n",
    "import tensorflow_datasets as tfds\n",
    "\n",
    "# 3. 데이터셋 완전 재로드 및 전처리 (추가된 부분)\n",
    "(raw_train, raw_validation, raw_test), metadata = tfds.load(\n",
    "    'tf_flowers', \n",
    "    split=['train[:80%]','train[80%:90%]','train[90%:]'],\n",
    "    with_info=True,\n",
    "    as_supervised=True\n",
    ")\n",
    "\n",
    "# 4. 데이터 전처리 파이프라인 \n",
    "IMG_SIZE = 224\n",
    "BATCH_SIZE = 32\n",
    "\n",
    "def format_image(image, label):\n",
    "    image = tf.image.resize(image, (IMG_SIZE, IMG_SIZE))\n",
    "    image = tf.cast(image, tf.float32) / 255.0\n",
    "    return image, label\n",
    "\n",
    "train_batches = raw_train.map(format_image).cache().shuffle(1000).batch(BATCH_SIZE).prefetch(1)\n",
    "val_batches = raw_validation.map(format_image).batch(BATCH_SIZE).prefetch(1)\n",
    "test_batches = raw_test.map(format_image).batch(BATCH_SIZE).prefetch(1)\n",
    "\n",
    "# 5. 모델 구조 재구성\n",
    "base_model = tf.keras.applications.MobileNetV2(\n",
    "    input_shape=(IMG_SIZE, IMG_SIZE, 3),\n",
    "    include_top=False,\n",
    "    weights='imagenet'\n",
    ")\n",
    "base_model.trainable = False\n",
    "\n",
    "model = tf.keras.Sequential([\n",
    "    base_model,\n",
    "    tf.keras.layers.GlobalAveragePooling2D(),\n",
    "    tf.keras.layers.Dropout(0.2),\n",
    "    tf.keras.layers.Dense(128, activation='relu'),\n",
    "    tf.keras.layers.Dense(5, activation='softmax')\n",
    "])\n",
    "\n",
    "# 6. 컴파일 (이전 설정과 동일)\n",
    "model.compile(\n",
    "    optimizer=tf.keras.optimizers.Adam(0.0001),\n",
    "    loss='sparse_categorical_crossentropy',\n",
    "    metrics=['accuracy']\n",
    ")\n",
    "\n",
    "# 7. 콜백 설정\n",
    "checkpoint = tf.keras.callbacks.ModelCheckpoint(\n",
    "    'best_model.h5',\n",
    "    monitor='val_accuracy',\n",
    "    save_best_only=True,\n",
    "    mode='max'\n",
    ")\n",
    "\n",
    "early_stop = tf.keras.callbacks.EarlyStopping(\n",
    "    monitor='val_loss',\n",
    "    patience=3,\n",
    "    restore_best_weights=True\n",
    ")\n",
    "\n",
    "# 8. 학습 실행\n",
    "history = model.fit(\n",
    "    train_batches,\n",
    "    validation_data=val_batches,\n",
    "    epochs=100,\n",
    "    callbacks=[checkpoint, early_stop]\n",
    ")\n",
    "\n",
    "# 9. 최종 평가\n",
    "model.load_weights('best_model.h5')\n",
    "test_loss, test_acc = model.evaluate(test_batches, verbose=0)\n",
    "print(f\"✅ 최종 테스트 정확도: {test_acc*100:.2f}%\")\n"
   ]
  },
  {
   "cell_type": "code",
   "execution_count": null,
   "id": "dd32302b",
   "metadata": {},
   "outputs": [],
   "source": [
    "//\n",
    "# MobileNetV2 선택 이유\n",
    "- 경량화 아키텍처: 모바일/임베디드 최적화 (적은 연산량)\n",
    "- ImageNet 사전 학습 가중치 활용: 소규모 데이터셋에 효과적\n",
    "- 검증된 성능: Google 공식 모델로 객체 인식 분야 검증\n",
    "\n",
    "# 진행 사항    \n",
    "-테스트 셋을 여러번 사용함으로써 간접활용의 위험이 있다하여 코드를 재구성\n",
    "-콜백과 얼리스탑을 추가함.\n",
    "\n",
    "# 회고\n",
    "- 배운 점: 전이 학습이 소규모 데이터셋에서도 높은 성능을 낼 수 있음을 확인  \n",
    "- 아쉬운 점: 학습 시간 단축을 위해 모델 경량화를 더 심화하지 못함  \n",
    "- 개선 방향: Optuna를 활용한 자동 하이퍼파라미터 튜닝 시도 예정\n",
    "\n",
    "//"
   ]
  }
 ],
 "metadata": {
  "kernelspec": {
   "display_name": "Python 3 (ipykernel)",
   "language": "python",
   "name": "python3"
  },
  "language_info": {
   "codemirror_mode": {
    "name": "ipython",
    "version": 3
   },
   "file_extension": ".py",
   "mimetype": "text/x-python",
   "name": "python",
   "nbconvert_exporter": "python",
   "pygments_lexer": "ipython3",
   "version": "3.9.7"
  }
 },
 "nbformat": 4,
 "nbformat_minor": 5
}
